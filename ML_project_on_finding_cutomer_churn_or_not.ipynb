{
  "nbformat": 4,
  "nbformat_minor": 0,
  "metadata": {
    "colab": {
      "name": "ML project on finding cutomer  churn or not.ipynb",
      "provenance": [],
      "collapsed_sections": []
    },
    "kernelspec": {
      "name": "python3",
      "display_name": "Python 3"
    },
    "language_info": {
      "name": "python"
    },
    "accelerator": "GPU"
  },
  "cells": [
    {
      "cell_type": "markdown",
      "metadata": {
        "id": "Jwn1MFBPQP-U"
      },
      "source": [
        "In this data, we have set of variables with churn column .  we have to find those customers who are going to churn."
      ]
    },
    {
      "cell_type": "markdown",
      "metadata": {
        "id": "4JPOFLWNVtol"
      },
      "source": [
        "**Importing libraries:**"
      ]
    },
    {
      "cell_type": "code",
      "metadata": {
        "id": "3aoi097LV4ak"
      },
      "source": [
        "import numpy as np\n",
        "import pandas as pd\n",
        "import seaborn as sns\n",
        "import matplotlib.pyplot as plt\n",
        "%matplotlib inline"
      ],
      "execution_count": null,
      "outputs": []
    },
    {
      "cell_type": "markdown",
      "metadata": {
        "id": "iC9pChN4WP1r"
      },
      "source": [
        "**importing dataset:**"
      ]
    },
    {
      "cell_type": "code",
      "metadata": {
        "id": "bZIXUvDCWTw5"
      },
      "source": [
        "df = pd.read_csv(\"/content/Churn_MV.csv\")"
      ],
      "execution_count": null,
      "outputs": []
    },
    {
      "cell_type": "markdown",
      "metadata": {
        "id": "5X5D3K6dvJ3X"
      },
      "source": [
        "**data analysis, visualization and preprocessing:**"
      ]
    },
    {
      "cell_type": "code",
      "metadata": {
        "colab": {
          "base_uri": "https://localhost:8080/",
          "height": 290
        },
        "id": "UExF_kUGXD8A",
        "outputId": "173de323-b448-409a-90ca-de24bb4cc376"
      },
      "source": [
        "df.head()"
      ],
      "execution_count": null,
      "outputs": [
        {
          "output_type": "execute_result",
          "data": {
            "text/html": [
              "<div>\n",
              "<style scoped>\n",
              "    .dataframe tbody tr th:only-of-type {\n",
              "        vertical-align: middle;\n",
              "    }\n",
              "\n",
              "    .dataframe tbody tr th {\n",
              "        vertical-align: top;\n",
              "    }\n",
              "\n",
              "    .dataframe thead th {\n",
              "        text-align: right;\n",
              "    }\n",
              "</style>\n",
              "<table border=\"1\" class=\"dataframe\">\n",
              "  <thead>\n",
              "    <tr style=\"text-align: right;\">\n",
              "      <th></th>\n",
              "      <th>Account Length</th>\n",
              "      <th>VMail Message</th>\n",
              "      <th>Day Mins</th>\n",
              "      <th>Eve Mins</th>\n",
              "      <th>Night Mins</th>\n",
              "      <th>Intl Mins</th>\n",
              "      <th>CustServ Calls</th>\n",
              "      <th>Churn</th>\n",
              "      <th>Intl Plan</th>\n",
              "      <th>VMail Plan</th>\n",
              "      <th>Day Calls</th>\n",
              "      <th>Day Charge</th>\n",
              "      <th>Daily Charges MV</th>\n",
              "      <th>Eve Calls</th>\n",
              "      <th>Eve Charge</th>\n",
              "      <th>Night Calls</th>\n",
              "      <th>Night Charge</th>\n",
              "      <th>Intl Calls</th>\n",
              "      <th>Intl Charge</th>\n",
              "      <th>State</th>\n",
              "      <th>Area Code</th>\n",
              "      <th>Phone</th>\n",
              "    </tr>\n",
              "  </thead>\n",
              "  <tbody>\n",
              "    <tr>\n",
              "      <th>0</th>\n",
              "      <td>NaN</td>\n",
              "      <td>NaN</td>\n",
              "      <td>NaN</td>\n",
              "      <td>NaN</td>\n",
              "      <td>NaN</td>\n",
              "      <td>NaN</td>\n",
              "      <td>NaN</td>\n",
              "      <td>NaN</td>\n",
              "      <td>NaN</td>\n",
              "      <td>NaN</td>\n",
              "      <td>NaN</td>\n",
              "      <td>NaN</td>\n",
              "      <td>NaN</td>\n",
              "      <td>NaN</td>\n",
              "      <td>NaN</td>\n",
              "      <td>NaN</td>\n",
              "      <td>NaN</td>\n",
              "      <td>NaN</td>\n",
              "      <td>NaN</td>\n",
              "      <td>NaN</td>\n",
              "      <td>NaN</td>\n",
              "      <td>NaN</td>\n",
              "    </tr>\n",
              "    <tr>\n",
              "      <th>1</th>\n",
              "      <td>128.0</td>\n",
              "      <td>25.0</td>\n",
              "      <td>265.1</td>\n",
              "      <td>197.4</td>\n",
              "      <td>244.7</td>\n",
              "      <td>10.0</td>\n",
              "      <td>1.0</td>\n",
              "      <td>0.0</td>\n",
              "      <td>0.0</td>\n",
              "      <td>1.0</td>\n",
              "      <td>110.0</td>\n",
              "      <td>45.07</td>\n",
              "      <td>45.07</td>\n",
              "      <td>99.0</td>\n",
              "      <td>16.78</td>\n",
              "      <td>91.0</td>\n",
              "      <td>11.01</td>\n",
              "      <td>3.0</td>\n",
              "      <td>2.7</td>\n",
              "      <td>KS</td>\n",
              "      <td>415.0</td>\n",
              "      <td>382-4657</td>\n",
              "    </tr>\n",
              "    <tr>\n",
              "      <th>2</th>\n",
              "      <td>NaN</td>\n",
              "      <td>NaN</td>\n",
              "      <td>NaN</td>\n",
              "      <td>NaN</td>\n",
              "      <td>NaN</td>\n",
              "      <td>NaN</td>\n",
              "      <td>NaN</td>\n",
              "      <td>NaN</td>\n",
              "      <td>NaN</td>\n",
              "      <td>NaN</td>\n",
              "      <td>NaN</td>\n",
              "      <td>NaN</td>\n",
              "      <td>NaN</td>\n",
              "      <td>NaN</td>\n",
              "      <td>NaN</td>\n",
              "      <td>NaN</td>\n",
              "      <td>NaN</td>\n",
              "      <td>NaN</td>\n",
              "      <td>NaN</td>\n",
              "      <td>NaN</td>\n",
              "      <td>NaN</td>\n",
              "      <td>NaN</td>\n",
              "    </tr>\n",
              "    <tr>\n",
              "      <th>3</th>\n",
              "      <td>107.0</td>\n",
              "      <td>26.0</td>\n",
              "      <td>161.6</td>\n",
              "      <td>195.5</td>\n",
              "      <td>254.4</td>\n",
              "      <td>13.7</td>\n",
              "      <td>1.0</td>\n",
              "      <td>0.0</td>\n",
              "      <td>0.0</td>\n",
              "      <td>1.0</td>\n",
              "      <td>123.0</td>\n",
              "      <td>27.47</td>\n",
              "      <td>27.47</td>\n",
              "      <td>103.0</td>\n",
              "      <td>16.62</td>\n",
              "      <td>103.0</td>\n",
              "      <td>11.45</td>\n",
              "      <td>3.0</td>\n",
              "      <td>3.7</td>\n",
              "      <td>OH</td>\n",
              "      <td>415.0</td>\n",
              "      <td>371-7191</td>\n",
              "    </tr>\n",
              "    <tr>\n",
              "      <th>4</th>\n",
              "      <td>NaN</td>\n",
              "      <td>NaN</td>\n",
              "      <td>NaN</td>\n",
              "      <td>NaN</td>\n",
              "      <td>NaN</td>\n",
              "      <td>NaN</td>\n",
              "      <td>NaN</td>\n",
              "      <td>NaN</td>\n",
              "      <td>NaN</td>\n",
              "      <td>NaN</td>\n",
              "      <td>NaN</td>\n",
              "      <td>NaN</td>\n",
              "      <td>NaN</td>\n",
              "      <td>NaN</td>\n",
              "      <td>NaN</td>\n",
              "      <td>NaN</td>\n",
              "      <td>NaN</td>\n",
              "      <td>NaN</td>\n",
              "      <td>NaN</td>\n",
              "      <td>NaN</td>\n",
              "      <td>NaN</td>\n",
              "      <td>NaN</td>\n",
              "    </tr>\n",
              "  </tbody>\n",
              "</table>\n",
              "</div>"
            ],
            "text/plain": [
              "   Account Length  VMail Message  Day Mins  ...  State  Area Code     Phone\n",
              "0             NaN            NaN       NaN  ...    NaN        NaN       NaN\n",
              "1           128.0           25.0     265.1  ...     KS      415.0  382-4657\n",
              "2             NaN            NaN       NaN  ...    NaN        NaN       NaN\n",
              "3           107.0           26.0     161.6  ...     OH      415.0  371-7191\n",
              "4             NaN            NaN       NaN  ...    NaN        NaN       NaN\n",
              "\n",
              "[5 rows x 22 columns]"
            ]
          },
          "metadata": {
            "tags": []
          },
          "execution_count": 3
        }
      ]
    },
    {
      "cell_type": "code",
      "metadata": {
        "colab": {
          "base_uri": "https://localhost:8080/",
          "height": 307
        },
        "id": "VZksJAP_vR-E",
        "outputId": "478e8d01-c3a3-469f-de43-582499d6a9eb"
      },
      "source": [
        "df.tail()"
      ],
      "execution_count": null,
      "outputs": [
        {
          "output_type": "execute_result",
          "data": {
            "text/html": [
              "<div>\n",
              "<style scoped>\n",
              "    .dataframe tbody tr th:only-of-type {\n",
              "        vertical-align: middle;\n",
              "    }\n",
              "\n",
              "    .dataframe tbody tr th {\n",
              "        vertical-align: top;\n",
              "    }\n",
              "\n",
              "    .dataframe thead th {\n",
              "        text-align: right;\n",
              "    }\n",
              "</style>\n",
              "<table border=\"1\" class=\"dataframe\">\n",
              "  <thead>\n",
              "    <tr style=\"text-align: right;\">\n",
              "      <th></th>\n",
              "      <th>Account Length</th>\n",
              "      <th>VMail Message</th>\n",
              "      <th>Day Mins</th>\n",
              "      <th>Eve Mins</th>\n",
              "      <th>Night Mins</th>\n",
              "      <th>Intl Mins</th>\n",
              "      <th>CustServ Calls</th>\n",
              "      <th>Churn</th>\n",
              "      <th>Intl Plan</th>\n",
              "      <th>VMail Plan</th>\n",
              "      <th>Day Calls</th>\n",
              "      <th>Day Charge</th>\n",
              "      <th>Daily Charges MV</th>\n",
              "      <th>Eve Calls</th>\n",
              "      <th>Eve Charge</th>\n",
              "      <th>Night Calls</th>\n",
              "      <th>Night Charge</th>\n",
              "      <th>Intl Calls</th>\n",
              "      <th>Intl Charge</th>\n",
              "      <th>State</th>\n",
              "      <th>Area Code</th>\n",
              "      <th>Phone</th>\n",
              "    </tr>\n",
              "  </thead>\n",
              "  <tbody>\n",
              "    <tr>\n",
              "      <th>6661</th>\n",
              "      <td>28.0</td>\n",
              "      <td>0.0</td>\n",
              "      <td>180.8</td>\n",
              "      <td>288.8</td>\n",
              "      <td>191.9</td>\n",
              "      <td>14.1</td>\n",
              "      <td>2.0</td>\n",
              "      <td>0.0</td>\n",
              "      <td>0.0</td>\n",
              "      <td>0.0</td>\n",
              "      <td>109.0</td>\n",
              "      <td>30.74</td>\n",
              "      <td>30.74</td>\n",
              "      <td>58.0</td>\n",
              "      <td>24.55</td>\n",
              "      <td>91.0</td>\n",
              "      <td>8.64</td>\n",
              "      <td>6.0</td>\n",
              "      <td>3.81</td>\n",
              "      <td>RI</td>\n",
              "      <td>510.0</td>\n",
              "      <td>328-8230</td>\n",
              "    </tr>\n",
              "    <tr>\n",
              "      <th>6662</th>\n",
              "      <td>NaN</td>\n",
              "      <td>NaN</td>\n",
              "      <td>NaN</td>\n",
              "      <td>NaN</td>\n",
              "      <td>NaN</td>\n",
              "      <td>NaN</td>\n",
              "      <td>NaN</td>\n",
              "      <td>NaN</td>\n",
              "      <td>NaN</td>\n",
              "      <td>NaN</td>\n",
              "      <td>NaN</td>\n",
              "      <td>NaN</td>\n",
              "      <td>NaN</td>\n",
              "      <td>NaN</td>\n",
              "      <td>NaN</td>\n",
              "      <td>NaN</td>\n",
              "      <td>NaN</td>\n",
              "      <td>NaN</td>\n",
              "      <td>NaN</td>\n",
              "      <td>NaN</td>\n",
              "      <td>NaN</td>\n",
              "      <td>NaN</td>\n",
              "    </tr>\n",
              "    <tr>\n",
              "      <th>6663</th>\n",
              "      <td>184.0</td>\n",
              "      <td>0.0</td>\n",
              "      <td>213.8</td>\n",
              "      <td>159.6</td>\n",
              "      <td>139.2</td>\n",
              "      <td>5.0</td>\n",
              "      <td>2.0</td>\n",
              "      <td>0.0</td>\n",
              "      <td>1.0</td>\n",
              "      <td>0.0</td>\n",
              "      <td>105.0</td>\n",
              "      <td>36.35</td>\n",
              "      <td>36.35</td>\n",
              "      <td>84.0</td>\n",
              "      <td>13.57</td>\n",
              "      <td>137.0</td>\n",
              "      <td>6.26</td>\n",
              "      <td>10.0</td>\n",
              "      <td>1.35</td>\n",
              "      <td>CT</td>\n",
              "      <td>510.0</td>\n",
              "      <td>364-6381</td>\n",
              "    </tr>\n",
              "    <tr>\n",
              "      <th>6664</th>\n",
              "      <td>NaN</td>\n",
              "      <td>NaN</td>\n",
              "      <td>NaN</td>\n",
              "      <td>NaN</td>\n",
              "      <td>NaN</td>\n",
              "      <td>NaN</td>\n",
              "      <td>NaN</td>\n",
              "      <td>NaN</td>\n",
              "      <td>NaN</td>\n",
              "      <td>NaN</td>\n",
              "      <td>NaN</td>\n",
              "      <td>NaN</td>\n",
              "      <td>NaN</td>\n",
              "      <td>NaN</td>\n",
              "      <td>NaN</td>\n",
              "      <td>NaN</td>\n",
              "      <td>NaN</td>\n",
              "      <td>NaN</td>\n",
              "      <td>NaN</td>\n",
              "      <td>NaN</td>\n",
              "      <td>NaN</td>\n",
              "      <td>NaN</td>\n",
              "    </tr>\n",
              "    <tr>\n",
              "      <th>6665</th>\n",
              "      <td>74.0</td>\n",
              "      <td>25.0</td>\n",
              "      <td>234.4</td>\n",
              "      <td>265.9</td>\n",
              "      <td>241.4</td>\n",
              "      <td>13.7</td>\n",
              "      <td>0.0</td>\n",
              "      <td>0.0</td>\n",
              "      <td>0.0</td>\n",
              "      <td>1.0</td>\n",
              "      <td>113.0</td>\n",
              "      <td>39.85</td>\n",
              "      <td>39.85</td>\n",
              "      <td>82.0</td>\n",
              "      <td>22.60</td>\n",
              "      <td>77.0</td>\n",
              "      <td>10.86</td>\n",
              "      <td>4.0</td>\n",
              "      <td>3.70</td>\n",
              "      <td>TN</td>\n",
              "      <td>415.0</td>\n",
              "      <td>400-4344</td>\n",
              "    </tr>\n",
              "  </tbody>\n",
              "</table>\n",
              "</div>"
            ],
            "text/plain": [
              "      Account Length  VMail Message  Day Mins  ...  State  Area Code     Phone\n",
              "6661            28.0            0.0     180.8  ...     RI      510.0  328-8230\n",
              "6662             NaN            NaN       NaN  ...    NaN        NaN       NaN\n",
              "6663           184.0            0.0     213.8  ...     CT      510.0  364-6381\n",
              "6664             NaN            NaN       NaN  ...    NaN        NaN       NaN\n",
              "6665            74.0           25.0     234.4  ...     TN      415.0  400-4344\n",
              "\n",
              "[5 rows x 22 columns]"
            ]
          },
          "metadata": {
            "tags": []
          },
          "execution_count": 4
        }
      ]
    },
    {
      "cell_type": "code",
      "metadata": {
        "colab": {
          "base_uri": "https://localhost:8080/"
        },
        "id": "dB9RJ5WBzKkX",
        "outputId": "75e8c9a1-5d81-43f2-9be8-2375a9252607"
      },
      "source": [
        "df.shape"
      ],
      "execution_count": null,
      "outputs": [
        {
          "output_type": "execute_result",
          "data": {
            "text/plain": [
              "(6666, 22)"
            ]
          },
          "metadata": {
            "tags": []
          },
          "execution_count": 5
        }
      ]
    },
    {
      "cell_type": "code",
      "metadata": {
        "colab": {
          "base_uri": "https://localhost:8080/"
        },
        "id": "1bp0WOZtzQMK",
        "outputId": "ea5b2eae-46c6-4846-8c4e-252264879d9d"
      },
      "source": [
        "df.info()"
      ],
      "execution_count": null,
      "outputs": [
        {
          "output_type": "stream",
          "text": [
            "<class 'pandas.core.frame.DataFrame'>\n",
            "RangeIndex: 6666 entries, 0 to 6665\n",
            "Data columns (total 22 columns):\n",
            " #   Column            Non-Null Count  Dtype  \n",
            "---  ------            --------------  -----  \n",
            " 0   Account Length    3333 non-null   float64\n",
            " 1   VMail Message     3333 non-null   float64\n",
            " 2   Day Mins          3333 non-null   float64\n",
            " 3   Eve Mins          3333 non-null   float64\n",
            " 4   Night Mins        3333 non-null   float64\n",
            " 5   Intl Mins         3333 non-null   float64\n",
            " 6   CustServ Calls    3333 non-null   float64\n",
            " 7   Churn             3333 non-null   float64\n",
            " 8   Intl Plan         3333 non-null   float64\n",
            " 9   VMail Plan        3333 non-null   float64\n",
            " 10  Day Calls         3333 non-null   float64\n",
            " 11  Day Charge        3333 non-null   float64\n",
            " 12  Daily Charges MV  3283 non-null   float64\n",
            " 13  Eve Calls         3333 non-null   float64\n",
            " 14  Eve Charge        3333 non-null   float64\n",
            " 15  Night Calls       3333 non-null   float64\n",
            " 16  Night Charge      3333 non-null   float64\n",
            " 17  Intl Calls        3333 non-null   float64\n",
            " 18  Intl Charge       3333 non-null   float64\n",
            " 19  State             3333 non-null   object \n",
            " 20  Area Code         3333 non-null   float64\n",
            " 21  Phone             3333 non-null   object \n",
            "dtypes: float64(20), object(2)\n",
            "memory usage: 1.1+ MB\n"
          ],
          "name": "stdout"
        }
      ]
    },
    {
      "cell_type": "markdown",
      "metadata": {
        "id": "5BbmVrccypRV"
      },
      "source": [
        "as we observe, there are some rows having ony 'NaN' for every feature "
      ]
    },
    {
      "cell_type": "markdown",
      "metadata": {
        "id": "ZfYKyAYoy7oa"
      },
      "source": [
        "first let's remove those kind of rows:"
      ]
    },
    {
      "cell_type": "code",
      "metadata": {
        "id": "ZoJT0oaNzDf3"
      },
      "source": [
        "df.dropna(axis=0,how='all',inplace=True)"
      ],
      "execution_count": null,
      "outputs": []
    },
    {
      "cell_type": "code",
      "metadata": {
        "colab": {
          "base_uri": "https://localhost:8080/"
        },
        "id": "ftHYjpG4zpLh",
        "outputId": "42a32544-9efd-4a87-a61f-2dcf1c4c1218"
      },
      "source": [
        "df.shape"
      ],
      "execution_count": null,
      "outputs": [
        {
          "output_type": "execute_result",
          "data": {
            "text/plain": [
              "(3333, 22)"
            ]
          },
          "metadata": {
            "tags": []
          },
          "execution_count": 8
        }
      ]
    },
    {
      "cell_type": "markdown",
      "metadata": {
        "id": "5dRug6PIzwub"
      },
      "source": [
        "as we observere number of rows droped from 6666 to 3333 , which means half of the rows in the dataset are useless"
      ]
    },
    {
      "cell_type": "code",
      "metadata": {
        "colab": {
          "base_uri": "https://localhost:8080/"
        },
        "id": "CtuZq18c1-uO",
        "outputId": "cc52e3f4-b39f-4180-b1ca-2db04c280dc5"
      },
      "source": [
        "df.info()"
      ],
      "execution_count": null,
      "outputs": [
        {
          "output_type": "stream",
          "text": [
            "<class 'pandas.core.frame.DataFrame'>\n",
            "Int64Index: 3333 entries, 1 to 6665\n",
            "Data columns (total 22 columns):\n",
            " #   Column            Non-Null Count  Dtype  \n",
            "---  ------            --------------  -----  \n",
            " 0   Account Length    3333 non-null   float64\n",
            " 1   VMail Message     3333 non-null   float64\n",
            " 2   Day Mins          3333 non-null   float64\n",
            " 3   Eve Mins          3333 non-null   float64\n",
            " 4   Night Mins        3333 non-null   float64\n",
            " 5   Intl Mins         3333 non-null   float64\n",
            " 6   CustServ Calls    3333 non-null   float64\n",
            " 7   Churn             3333 non-null   float64\n",
            " 8   Intl Plan         3333 non-null   float64\n",
            " 9   VMail Plan        3333 non-null   float64\n",
            " 10  Day Calls         3333 non-null   float64\n",
            " 11  Day Charge        3333 non-null   float64\n",
            " 12  Daily Charges MV  3283 non-null   float64\n",
            " 13  Eve Calls         3333 non-null   float64\n",
            " 14  Eve Charge        3333 non-null   float64\n",
            " 15  Night Calls       3333 non-null   float64\n",
            " 16  Night Charge      3333 non-null   float64\n",
            " 17  Intl Calls        3333 non-null   float64\n",
            " 18  Intl Charge       3333 non-null   float64\n",
            " 19  State             3333 non-null   object \n",
            " 20  Area Code         3333 non-null   float64\n",
            " 21  Phone             3333 non-null   object \n",
            "dtypes: float64(20), object(2)\n",
            "memory usage: 598.9+ KB\n"
          ],
          "name": "stdout"
        }
      ]
    },
    {
      "cell_type": "code",
      "metadata": {
        "colab": {
          "base_uri": "https://localhost:8080/",
          "height": 332
        },
        "id": "03hScYBm2DLC",
        "outputId": "bc512b8c-82b7-4637-b93d-7edd0a2c7d13"
      },
      "source": [
        "df.describe()"
      ],
      "execution_count": null,
      "outputs": [
        {
          "output_type": "execute_result",
          "data": {
            "text/html": [
              "<div>\n",
              "<style scoped>\n",
              "    .dataframe tbody tr th:only-of-type {\n",
              "        vertical-align: middle;\n",
              "    }\n",
              "\n",
              "    .dataframe tbody tr th {\n",
              "        vertical-align: top;\n",
              "    }\n",
              "\n",
              "    .dataframe thead th {\n",
              "        text-align: right;\n",
              "    }\n",
              "</style>\n",
              "<table border=\"1\" class=\"dataframe\">\n",
              "  <thead>\n",
              "    <tr style=\"text-align: right;\">\n",
              "      <th></th>\n",
              "      <th>Account Length</th>\n",
              "      <th>VMail Message</th>\n",
              "      <th>Day Mins</th>\n",
              "      <th>Eve Mins</th>\n",
              "      <th>Night Mins</th>\n",
              "      <th>Intl Mins</th>\n",
              "      <th>CustServ Calls</th>\n",
              "      <th>Churn</th>\n",
              "      <th>Intl Plan</th>\n",
              "      <th>VMail Plan</th>\n",
              "      <th>Day Calls</th>\n",
              "      <th>Day Charge</th>\n",
              "      <th>Daily Charges MV</th>\n",
              "      <th>Eve Calls</th>\n",
              "      <th>Eve Charge</th>\n",
              "      <th>Night Calls</th>\n",
              "      <th>Night Charge</th>\n",
              "      <th>Intl Calls</th>\n",
              "      <th>Intl Charge</th>\n",
              "      <th>Area Code</th>\n",
              "    </tr>\n",
              "  </thead>\n",
              "  <tbody>\n",
              "    <tr>\n",
              "      <th>count</th>\n",
              "      <td>3333.000000</td>\n",
              "      <td>3333.000000</td>\n",
              "      <td>3333.000000</td>\n",
              "      <td>3333.000000</td>\n",
              "      <td>3333.000000</td>\n",
              "      <td>3333.000000</td>\n",
              "      <td>3333.000000</td>\n",
              "      <td>3333.000000</td>\n",
              "      <td>3333.000000</td>\n",
              "      <td>3333.000000</td>\n",
              "      <td>3333.000000</td>\n",
              "      <td>3333.000000</td>\n",
              "      <td>3283.000000</td>\n",
              "      <td>3333.000000</td>\n",
              "      <td>3333.000000</td>\n",
              "      <td>3333.000000</td>\n",
              "      <td>3333.000000</td>\n",
              "      <td>3333.000000</td>\n",
              "      <td>3333.000000</td>\n",
              "      <td>3333.000000</td>\n",
              "    </tr>\n",
              "    <tr>\n",
              "      <th>mean</th>\n",
              "      <td>101.064806</td>\n",
              "      <td>8.099010</td>\n",
              "      <td>179.775098</td>\n",
              "      <td>200.980348</td>\n",
              "      <td>200.872037</td>\n",
              "      <td>10.237294</td>\n",
              "      <td>1.562856</td>\n",
              "      <td>0.144914</td>\n",
              "      <td>0.096910</td>\n",
              "      <td>0.276628</td>\n",
              "      <td>100.435644</td>\n",
              "      <td>30.562307</td>\n",
              "      <td>30.533475</td>\n",
              "      <td>100.114311</td>\n",
              "      <td>17.083540</td>\n",
              "      <td>100.107711</td>\n",
              "      <td>9.039325</td>\n",
              "      <td>4.479448</td>\n",
              "      <td>2.764581</td>\n",
              "      <td>437.182418</td>\n",
              "    </tr>\n",
              "    <tr>\n",
              "      <th>std</th>\n",
              "      <td>39.822106</td>\n",
              "      <td>13.688365</td>\n",
              "      <td>54.467389</td>\n",
              "      <td>50.713844</td>\n",
              "      <td>50.573847</td>\n",
              "      <td>2.791840</td>\n",
              "      <td>1.315491</td>\n",
              "      <td>0.352067</td>\n",
              "      <td>0.295879</td>\n",
              "      <td>0.447398</td>\n",
              "      <td>20.069084</td>\n",
              "      <td>9.259435</td>\n",
              "      <td>9.205538</td>\n",
              "      <td>19.922625</td>\n",
              "      <td>4.310668</td>\n",
              "      <td>19.568609</td>\n",
              "      <td>2.275873</td>\n",
              "      <td>2.461214</td>\n",
              "      <td>0.753773</td>\n",
              "      <td>42.371290</td>\n",
              "    </tr>\n",
              "    <tr>\n",
              "      <th>min</th>\n",
              "      <td>1.000000</td>\n",
              "      <td>0.000000</td>\n",
              "      <td>0.000000</td>\n",
              "      <td>0.000000</td>\n",
              "      <td>23.200000</td>\n",
              "      <td>0.000000</td>\n",
              "      <td>0.000000</td>\n",
              "      <td>0.000000</td>\n",
              "      <td>0.000000</td>\n",
              "      <td>0.000000</td>\n",
              "      <td>0.000000</td>\n",
              "      <td>0.000000</td>\n",
              "      <td>0.000000</td>\n",
              "      <td>0.000000</td>\n",
              "      <td>0.000000</td>\n",
              "      <td>33.000000</td>\n",
              "      <td>1.040000</td>\n",
              "      <td>0.000000</td>\n",
              "      <td>0.000000</td>\n",
              "      <td>408.000000</td>\n",
              "    </tr>\n",
              "    <tr>\n",
              "      <th>25%</th>\n",
              "      <td>74.000000</td>\n",
              "      <td>0.000000</td>\n",
              "      <td>143.700000</td>\n",
              "      <td>166.600000</td>\n",
              "      <td>167.000000</td>\n",
              "      <td>8.500000</td>\n",
              "      <td>1.000000</td>\n",
              "      <td>0.000000</td>\n",
              "      <td>0.000000</td>\n",
              "      <td>0.000000</td>\n",
              "      <td>87.000000</td>\n",
              "      <td>24.430000</td>\n",
              "      <td>24.420000</td>\n",
              "      <td>87.000000</td>\n",
              "      <td>14.160000</td>\n",
              "      <td>87.000000</td>\n",
              "      <td>7.520000</td>\n",
              "      <td>3.000000</td>\n",
              "      <td>2.300000</td>\n",
              "      <td>408.000000</td>\n",
              "    </tr>\n",
              "    <tr>\n",
              "      <th>50%</th>\n",
              "      <td>101.000000</td>\n",
              "      <td>0.000000</td>\n",
              "      <td>179.400000</td>\n",
              "      <td>201.400000</td>\n",
              "      <td>201.200000</td>\n",
              "      <td>10.300000</td>\n",
              "      <td>1.000000</td>\n",
              "      <td>0.000000</td>\n",
              "      <td>0.000000</td>\n",
              "      <td>0.000000</td>\n",
              "      <td>101.000000</td>\n",
              "      <td>30.500000</td>\n",
              "      <td>30.500000</td>\n",
              "      <td>100.000000</td>\n",
              "      <td>17.120000</td>\n",
              "      <td>100.000000</td>\n",
              "      <td>9.050000</td>\n",
              "      <td>4.000000</td>\n",
              "      <td>2.780000</td>\n",
              "      <td>415.000000</td>\n",
              "    </tr>\n",
              "    <tr>\n",
              "      <th>75%</th>\n",
              "      <td>127.000000</td>\n",
              "      <td>20.000000</td>\n",
              "      <td>216.400000</td>\n",
              "      <td>235.300000</td>\n",
              "      <td>235.300000</td>\n",
              "      <td>12.100000</td>\n",
              "      <td>2.000000</td>\n",
              "      <td>0.000000</td>\n",
              "      <td>0.000000</td>\n",
              "      <td>1.000000</td>\n",
              "      <td>114.000000</td>\n",
              "      <td>36.790000</td>\n",
              "      <td>36.745000</td>\n",
              "      <td>114.000000</td>\n",
              "      <td>20.000000</td>\n",
              "      <td>113.000000</td>\n",
              "      <td>10.590000</td>\n",
              "      <td>6.000000</td>\n",
              "      <td>3.270000</td>\n",
              "      <td>510.000000</td>\n",
              "    </tr>\n",
              "    <tr>\n",
              "      <th>max</th>\n",
              "      <td>243.000000</td>\n",
              "      <td>51.000000</td>\n",
              "      <td>350.800000</td>\n",
              "      <td>363.700000</td>\n",
              "      <td>395.000000</td>\n",
              "      <td>20.000000</td>\n",
              "      <td>9.000000</td>\n",
              "      <td>1.000000</td>\n",
              "      <td>1.000000</td>\n",
              "      <td>1.000000</td>\n",
              "      <td>165.000000</td>\n",
              "      <td>59.640000</td>\n",
              "      <td>59.640000</td>\n",
              "      <td>170.000000</td>\n",
              "      <td>30.910000</td>\n",
              "      <td>175.000000</td>\n",
              "      <td>17.770000</td>\n",
              "      <td>20.000000</td>\n",
              "      <td>5.400000</td>\n",
              "      <td>510.000000</td>\n",
              "    </tr>\n",
              "  </tbody>\n",
              "</table>\n",
              "</div>"
            ],
            "text/plain": [
              "       Account Length  VMail Message  ...  Intl Charge    Area Code\n",
              "count     3333.000000    3333.000000  ...  3333.000000  3333.000000\n",
              "mean       101.064806       8.099010  ...     2.764581   437.182418\n",
              "std         39.822106      13.688365  ...     0.753773    42.371290\n",
              "min          1.000000       0.000000  ...     0.000000   408.000000\n",
              "25%         74.000000       0.000000  ...     2.300000   408.000000\n",
              "50%        101.000000       0.000000  ...     2.780000   415.000000\n",
              "75%        127.000000      20.000000  ...     3.270000   510.000000\n",
              "max        243.000000      51.000000  ...     5.400000   510.000000\n",
              "\n",
              "[8 rows x 20 columns]"
            ]
          },
          "metadata": {
            "tags": []
          },
          "execution_count": 10
        }
      ]
    },
    {
      "cell_type": "markdown",
      "metadata": {
        "id": "UUQjq_6i2T3I"
      },
      "source": [
        "**checking for null/missing  values:**"
      ]
    },
    {
      "cell_type": "code",
      "metadata": {
        "colab": {
          "base_uri": "https://localhost:8080/"
        },
        "id": "HaYFJI3G2oZa",
        "outputId": "1f2b762e-537d-412d-9f32-9c582c2661fd"
      },
      "source": [
        "df.isnull().sum()"
      ],
      "execution_count": null,
      "outputs": [
        {
          "output_type": "execute_result",
          "data": {
            "text/plain": [
              "Account Length       0\n",
              "VMail Message        0\n",
              "Day Mins             0\n",
              "Eve Mins             0\n",
              "Night Mins           0\n",
              "Intl Mins            0\n",
              "CustServ Calls       0\n",
              "Churn                0\n",
              "Intl Plan            0\n",
              "VMail Plan           0\n",
              "Day Calls            0\n",
              "Day Charge           0\n",
              "Daily Charges MV    50\n",
              "Eve Calls            0\n",
              "Eve Charge           0\n",
              "Night Calls          0\n",
              "Night Charge         0\n",
              "Intl Calls           0\n",
              "Intl Charge          0\n",
              "State                0\n",
              "Area Code            0\n",
              "Phone                0\n",
              "dtype: int64"
            ]
          },
          "metadata": {
            "tags": []
          },
          "execution_count": 11
        }
      ]
    },
    {
      "cell_type": "code",
      "metadata": {
        "colab": {
          "base_uri": "https://localhost:8080/",
          "height": 365
        },
        "id": "iE6e9mLt3CmO",
        "outputId": "38b9bfed-01e7-430e-8a8a-8416ed026a60"
      },
      "source": [
        "sns.heatmap(df.isnull(),cmap='viridis')"
      ],
      "execution_count": null,
      "outputs": [
        {
          "output_type": "execute_result",
          "data": {
            "text/plain": [
              "<matplotlib.axes._subplots.AxesSubplot at 0x7fb33a55ec90>"
            ]
          },
          "metadata": {
            "tags": []
          },
          "execution_count": 12
        },
        {
          "output_type": "display_data",
          "data": {
            "image/png": "[encoded data removed]",
            "text/plain": [
              "<Figure size 432x288 with 2 Axes>"
            ]
          },
          "metadata": {
            "tags": [],
            "needs_background": "light"
          }
        }
      ]
    },
    {
      "cell_type": "markdown",
      "metadata": {
        "id": "dItgPS0m4Amf"
      },
      "source": [
        "we have 50 missing values in 'Daily charges MV'"
      ]
    },
    {
      "cell_type": "code",
      "metadata": {
        "colab": {
          "base_uri": "https://localhost:8080/",
          "height": 350
        },
        "id": "y0FOayTi4KuQ",
        "outputId": "1c18f161-a452-4e84-d339-78fb8b1bb0b4"
      },
      "source": [
        "sns.boxplot(df['Daily Charges MV'])"
      ],
      "execution_count": null,
      "outputs": [
        {
          "output_type": "stream",
          "text": [
            "/usr/local/lib/python3.7/dist-packages/seaborn/_decorators.py:43: FutureWarning: Pass the following variable as a keyword arg: x. From version 0.12, the only valid positional argument will be `data`, and passing other arguments without an explicit keyword will result in an error or misinterpretation.\n",
            "  FutureWarning\n"
          ],
          "name": "stderr"
        },
        {
          "output_type": "execute_result",
          "data": {
            "text/plain": [
              "<matplotlib.axes._subplots.AxesSubplot at 0x7fb3313f0b50>"
            ]
          },
          "metadata": {
            "tags": []
          },
          "execution_count": 13
        },
        {
          "output_type": "display_data",
          "data": {
            "image/png": "[encoded data removed]",
            "text/plain": [
              "<Figure size 432x288 with 1 Axes>"
            ]
          },
          "metadata": {
            "tags": [],
            "needs_background": "light"
          }
        }
      ]
    },
    {
      "cell_type": "markdown",
      "metadata": {
        "id": "iHquP0926tG0"
      },
      "source": [
        "as we observe there are outliers in 'Daily Charges MV' , we can't rely on mean value.  we use median to replace the missing values . "
      ]
    },
    {
      "cell_type": "code",
      "metadata": {
        "id": "EtDBNpty7S4q"
      },
      "source": [
        "median_val = df['Daily Charges MV'].median()\n",
        "df['Daily Charges MV']= df['Daily Charges MV'].fillna(median_val)"
      ],
      "execution_count": null,
      "outputs": []
    },
    {
      "cell_type": "code",
      "metadata": {
        "colab": {
          "base_uri": "https://localhost:8080/",
          "height": 365
        },
        "id": "0dh1mFPgKNb0",
        "outputId": "2291fdb8-7011-4f27-ff86-736b5914af60"
      },
      "source": [
        "sns.heatmap(df.isnull(),cmap='viridis')"
      ],
      "execution_count": null,
      "outputs": [
        {
          "output_type": "execute_result",
          "data": {
            "text/plain": [
              "<matplotlib.axes._subplots.AxesSubplot at 0x7fb330ea7150>"
            ]
          },
          "metadata": {
            "tags": []
          },
          "execution_count": 15
        },
        {
          "output_type": "display_data",
          "data": {
            "image/png": "[encoded data removed]",
            "text/plain": [
              "<Figure size 432x288 with 2 Axes>"
            ]
          },
          "metadata": {
            "tags": [],
            "needs_background": "light"
          }
        }
      ]
    },
    {
      "cell_type": "markdown",
      "metadata": {
        "id": "9v9KWgqokfrz"
      },
      "source": [
        "as we filled the missing values , checking missing value imputation accuracy"
      ]
    },
    {
      "cell_type": "code",
      "metadata": {
        "colab": {
          "base_uri": "https://localhost:8080/",
          "height": 458
        },
        "id": "6Q13wa3ykpPO",
        "outputId": "4c399b89-9241-4701-98cb-c129f0e77dc9"
      },
      "source": [
        "sns.jointplot(x='Day Charge',y = 'Daily Charges MV',data=df,kind='reg')"
      ],
      "execution_count": null,
      "outputs": [
        {
          "output_type": "execute_result",
          "data": {
            "text/plain": [
              "<seaborn.axisgrid.JointGrid at 0x7fb331371590>"
            ]
          },
          "metadata": {
            "tags": []
          },
          "execution_count": 16
        },
        {
          "output_type": "display_data",
          "data": {
            "image/png": "[encoded data removed]",
            "text/plain": [
              "<Figure size 432x432 with 3 Axes>"
            ]
          },
          "metadata": {
            "tags": [],
            "needs_background": "light"
          }
        }
      ]
    },
    {
      "cell_type": "markdown",
      "metadata": {
        "id": "tgfX9DMXl5Sp"
      },
      "source": [
        "it seems better, looking like good correlation"
      ]
    },
    {
      "cell_type": "markdown",
      "metadata": {
        "id": "K1vwGAgypOVs"
      },
      "source": [
        "In our dataset , churn , Intl plan , VMail plan are filled with only 0 and 1 and the datatype is float64. \n",
        "\n",
        "so changing the datatypes into category"
      ]
    },
    {
      "cell_type": "code",
      "metadata": {
        "id": "6Fk_dilvske2"
      },
      "source": [
        "df['Churn'] = df['Churn'].astype('category')\n",
        "df['Intl Plan'] = df['Intl Plan'].astype('category')\n",
        "df['VMail Plan'] = df['VMail Plan'].astype('category')"
      ],
      "execution_count": null,
      "outputs": []
    },
    {
      "cell_type": "markdown",
      "metadata": {
        "id": "Gem8ZT6osrUM"
      },
      "source": [
        "**dropping unwanted column:**"
      ]
    },
    {
      "cell_type": "code",
      "metadata": {
        "colab": {
          "base_uri": "https://localhost:8080/",
          "height": 862
        },
        "id": "x7XPCzO9tOGm",
        "outputId": "085ebd98-5f77-4c50-d2c6-df1fd43589ce"
      },
      "source": [
        "df.corr()"
      ],
      "execution_count": null,
      "outputs": [
        {
          "output_type": "execute_result",
          "data": {
            "text/html": [
              "<div>\n",
              "<style scoped>\n",
              "    .dataframe tbody tr th:only-of-type {\n",
              "        vertical-align: middle;\n",
              "    }\n",
              "\n",
              "    .dataframe tbody tr th {\n",
              "        vertical-align: top;\n",
              "    }\n",
              "\n",
              "    .dataframe thead th {\n",
              "        text-align: right;\n",
              "    }\n",
              "</style>\n",
              "<table border=\"1\" class=\"dataframe\">\n",
              "  <thead>\n",
              "    <tr style=\"text-align: right;\">\n",
              "      <th></th>\n",
              "      <th>Account Length</th>\n",
              "      <th>VMail Message</th>\n",
              "      <th>Day Mins</th>\n",
              "      <th>Eve Mins</th>\n",
              "      <th>Night Mins</th>\n",
              "      <th>Intl Mins</th>\n",
              "      <th>CustServ Calls</th>\n",
              "      <th>Day Calls</th>\n",
              "      <th>Day Charge</th>\n",
              "      <th>Daily Charges MV</th>\n",
              "      <th>Eve Calls</th>\n",
              "      <th>Eve Charge</th>\n",
              "      <th>Night Calls</th>\n",
              "      <th>Night Charge</th>\n",
              "      <th>Intl Calls</th>\n",
              "      <th>Intl Charge</th>\n",
              "      <th>Area Code</th>\n",
              "    </tr>\n",
              "  </thead>\n",
              "  <tbody>\n",
              "    <tr>\n",
              "      <th>Account Length</th>\n",
              "      <td>1.000000</td>\n",
              "      <td>-0.004628</td>\n",
              "      <td>0.006216</td>\n",
              "      <td>-0.006757</td>\n",
              "      <td>-0.008955</td>\n",
              "      <td>0.009514</td>\n",
              "      <td>-0.003796</td>\n",
              "      <td>0.038470</td>\n",
              "      <td>0.006214</td>\n",
              "      <td>0.008347</td>\n",
              "      <td>0.019260</td>\n",
              "      <td>-0.006745</td>\n",
              "      <td>-0.013176</td>\n",
              "      <td>-0.008960</td>\n",
              "      <td>0.020661</td>\n",
              "      <td>0.009546</td>\n",
              "      <td>-0.012463</td>\n",
              "    </tr>\n",
              "    <tr>\n",
              "      <th>VMail Message</th>\n",
              "      <td>-0.004628</td>\n",
              "      <td>1.000000</td>\n",
              "      <td>0.000778</td>\n",
              "      <td>0.017562</td>\n",
              "      <td>0.007681</td>\n",
              "      <td>0.002856</td>\n",
              "      <td>-0.013263</td>\n",
              "      <td>-0.009548</td>\n",
              "      <td>0.000776</td>\n",
              "      <td>0.001987</td>\n",
              "      <td>-0.005864</td>\n",
              "      <td>0.017578</td>\n",
              "      <td>0.007123</td>\n",
              "      <td>0.007663</td>\n",
              "      <td>0.013957</td>\n",
              "      <td>0.002884</td>\n",
              "      <td>-0.001994</td>\n",
              "    </tr>\n",
              "    <tr>\n",
              "      <th>Day Mins</th>\n",
              "      <td>0.006216</td>\n",
              "      <td>0.000778</td>\n",
              "      <td>1.000000</td>\n",
              "      <td>0.007043</td>\n",
              "      <td>0.004323</td>\n",
              "      <td>-0.010155</td>\n",
              "      <td>-0.013423</td>\n",
              "      <td>0.006750</td>\n",
              "      <td>1.000000</td>\n",
              "      <td>0.986681</td>\n",
              "      <td>0.015769</td>\n",
              "      <td>0.007029</td>\n",
              "      <td>0.022972</td>\n",
              "      <td>0.004300</td>\n",
              "      <td>0.008033</td>\n",
              "      <td>-0.010092</td>\n",
              "      <td>-0.008264</td>\n",
              "    </tr>\n",
              "    <tr>\n",
              "      <th>Eve Mins</th>\n",
              "      <td>-0.006757</td>\n",
              "      <td>0.017562</td>\n",
              "      <td>0.007043</td>\n",
              "      <td>1.000000</td>\n",
              "      <td>-0.012584</td>\n",
              "      <td>-0.011035</td>\n",
              "      <td>-0.012985</td>\n",
              "      <td>-0.021451</td>\n",
              "      <td>0.007050</td>\n",
              "      <td>0.006556</td>\n",
              "      <td>-0.011430</td>\n",
              "      <td>1.000000</td>\n",
              "      <td>0.007586</td>\n",
              "      <td>-0.012593</td>\n",
              "      <td>0.002541</td>\n",
              "      <td>-0.011067</td>\n",
              "      <td>0.003580</td>\n",
              "    </tr>\n",
              "    <tr>\n",
              "      <th>Night Mins</th>\n",
              "      <td>-0.008955</td>\n",
              "      <td>0.007681</td>\n",
              "      <td>0.004323</td>\n",
              "      <td>-0.012584</td>\n",
              "      <td>1.000000</td>\n",
              "      <td>-0.015207</td>\n",
              "      <td>-0.009288</td>\n",
              "      <td>0.022938</td>\n",
              "      <td>0.004324</td>\n",
              "      <td>0.004402</td>\n",
              "      <td>-0.002093</td>\n",
              "      <td>-0.012592</td>\n",
              "      <td>0.011204</td>\n",
              "      <td>0.999999</td>\n",
              "      <td>-0.012353</td>\n",
              "      <td>-0.015180</td>\n",
              "      <td>-0.005825</td>\n",
              "    </tr>\n",
              "    <tr>\n",
              "      <th>Intl Mins</th>\n",
              "      <td>0.009514</td>\n",
              "      <td>0.002856</td>\n",
              "      <td>-0.010155</td>\n",
              "      <td>-0.011035</td>\n",
              "      <td>-0.015207</td>\n",
              "      <td>1.000000</td>\n",
              "      <td>-0.009640</td>\n",
              "      <td>0.021565</td>\n",
              "      <td>-0.010157</td>\n",
              "      <td>-0.013933</td>\n",
              "      <td>0.008703</td>\n",
              "      <td>-0.011043</td>\n",
              "      <td>-0.013605</td>\n",
              "      <td>-0.015214</td>\n",
              "      <td>0.032304</td>\n",
              "      <td>0.999993</td>\n",
              "      <td>-0.018288</td>\n",
              "    </tr>\n",
              "    <tr>\n",
              "      <th>CustServ Calls</th>\n",
              "      <td>-0.003796</td>\n",
              "      <td>-0.013263</td>\n",
              "      <td>-0.013423</td>\n",
              "      <td>-0.012985</td>\n",
              "      <td>-0.009288</td>\n",
              "      <td>-0.009640</td>\n",
              "      <td>1.000000</td>\n",
              "      <td>-0.018942</td>\n",
              "      <td>-0.013427</td>\n",
              "      <td>-0.011189</td>\n",
              "      <td>0.002423</td>\n",
              "      <td>-0.012987</td>\n",
              "      <td>-0.012802</td>\n",
              "      <td>-0.009277</td>\n",
              "      <td>-0.017561</td>\n",
              "      <td>-0.009675</td>\n",
              "      <td>0.027572</td>\n",
              "    </tr>\n",
              "    <tr>\n",
              "      <th>Day Calls</th>\n",
              "      <td>0.038470</td>\n",
              "      <td>-0.009548</td>\n",
              "      <td>0.006750</td>\n",
              "      <td>-0.021451</td>\n",
              "      <td>0.022938</td>\n",
              "      <td>0.021565</td>\n",
              "      <td>-0.018942</td>\n",
              "      <td>1.000000</td>\n",
              "      <td>0.006753</td>\n",
              "      <td>0.008236</td>\n",
              "      <td>0.006462</td>\n",
              "      <td>-0.021449</td>\n",
              "      <td>-0.019557</td>\n",
              "      <td>0.022927</td>\n",
              "      <td>0.004574</td>\n",
              "      <td>0.021666</td>\n",
              "      <td>-0.009646</td>\n",
              "    </tr>\n",
              "    <tr>\n",
              "      <th>Day Charge</th>\n",
              "      <td>0.006214</td>\n",
              "      <td>0.000776</td>\n",
              "      <td>1.000000</td>\n",
              "      <td>0.007050</td>\n",
              "      <td>0.004324</td>\n",
              "      <td>-0.010157</td>\n",
              "      <td>-0.013427</td>\n",
              "      <td>0.006753</td>\n",
              "      <td>1.000000</td>\n",
              "      <td>0.986680</td>\n",
              "      <td>0.015769</td>\n",
              "      <td>0.007036</td>\n",
              "      <td>0.022972</td>\n",
              "      <td>0.004301</td>\n",
              "      <td>0.008032</td>\n",
              "      <td>-0.010094</td>\n",
              "      <td>-0.008264</td>\n",
              "    </tr>\n",
              "    <tr>\n",
              "      <th>Daily Charges MV</th>\n",
              "      <td>0.008347</td>\n",
              "      <td>0.001987</td>\n",
              "      <td>0.986681</td>\n",
              "      <td>0.006556</td>\n",
              "      <td>0.004402</td>\n",
              "      <td>-0.013933</td>\n",
              "      <td>-0.011189</td>\n",
              "      <td>0.008236</td>\n",
              "      <td>0.986680</td>\n",
              "      <td>1.000000</td>\n",
              "      <td>0.014114</td>\n",
              "      <td>0.006543</td>\n",
              "      <td>0.021397</td>\n",
              "      <td>0.004380</td>\n",
              "      <td>0.006897</td>\n",
              "      <td>-0.013887</td>\n",
              "      <td>-0.005376</td>\n",
              "    </tr>\n",
              "    <tr>\n",
              "      <th>Eve Calls</th>\n",
              "      <td>0.019260</td>\n",
              "      <td>-0.005864</td>\n",
              "      <td>0.015769</td>\n",
              "      <td>-0.011430</td>\n",
              "      <td>-0.002093</td>\n",
              "      <td>0.008703</td>\n",
              "      <td>0.002423</td>\n",
              "      <td>0.006462</td>\n",
              "      <td>0.015769</td>\n",
              "      <td>0.014114</td>\n",
              "      <td>1.000000</td>\n",
              "      <td>-0.011423</td>\n",
              "      <td>0.007710</td>\n",
              "      <td>-0.002056</td>\n",
              "      <td>0.017434</td>\n",
              "      <td>0.008674</td>\n",
              "      <td>-0.011886</td>\n",
              "    </tr>\n",
              "    <tr>\n",
              "      <th>Eve Charge</th>\n",
              "      <td>-0.006745</td>\n",
              "      <td>0.017578</td>\n",
              "      <td>0.007029</td>\n",
              "      <td>1.000000</td>\n",
              "      <td>-0.012592</td>\n",
              "      <td>-0.011043</td>\n",
              "      <td>-0.012987</td>\n",
              "      <td>-0.021449</td>\n",
              "      <td>0.007036</td>\n",
              "      <td>0.006543</td>\n",
              "      <td>-0.011423</td>\n",
              "      <td>1.000000</td>\n",
              "      <td>0.007596</td>\n",
              "      <td>-0.012601</td>\n",
              "      <td>0.002541</td>\n",
              "      <td>-0.011074</td>\n",
              "      <td>0.003607</td>\n",
              "    </tr>\n",
              "    <tr>\n",
              "      <th>Night Calls</th>\n",
              "      <td>-0.013176</td>\n",
              "      <td>0.007123</td>\n",
              "      <td>0.022972</td>\n",
              "      <td>0.007586</td>\n",
              "      <td>0.011204</td>\n",
              "      <td>-0.013605</td>\n",
              "      <td>-0.012802</td>\n",
              "      <td>-0.019557</td>\n",
              "      <td>0.022972</td>\n",
              "      <td>0.021397</td>\n",
              "      <td>0.007710</td>\n",
              "      <td>0.007596</td>\n",
              "      <td>1.000000</td>\n",
              "      <td>0.011188</td>\n",
              "      <td>0.000305</td>\n",
              "      <td>-0.013630</td>\n",
              "      <td>0.016522</td>\n",
              "    </tr>\n",
              "    <tr>\n",
              "      <th>Night Charge</th>\n",
              "      <td>-0.008960</td>\n",
              "      <td>0.007663</td>\n",
              "      <td>0.004300</td>\n",
              "      <td>-0.012593</td>\n",
              "      <td>0.999999</td>\n",
              "      <td>-0.015214</td>\n",
              "      <td>-0.009277</td>\n",
              "      <td>0.022927</td>\n",
              "      <td>0.004301</td>\n",
              "      <td>0.004380</td>\n",
              "      <td>-0.002056</td>\n",
              "      <td>-0.012601</td>\n",
              "      <td>0.011188</td>\n",
              "      <td>1.000000</td>\n",
              "      <td>-0.012329</td>\n",
              "      <td>-0.015186</td>\n",
              "      <td>-0.005845</td>\n",
              "    </tr>\n",
              "    <tr>\n",
              "      <th>Intl Calls</th>\n",
              "      <td>0.020661</td>\n",
              "      <td>0.013957</td>\n",
              "      <td>0.008033</td>\n",
              "      <td>0.002541</td>\n",
              "      <td>-0.012353</td>\n",
              "      <td>0.032304</td>\n",
              "      <td>-0.017561</td>\n",
              "      <td>0.004574</td>\n",
              "      <td>0.008032</td>\n",
              "      <td>0.006897</td>\n",
              "      <td>0.017434</td>\n",
              "      <td>0.002541</td>\n",
              "      <td>0.000305</td>\n",
              "      <td>-0.012329</td>\n",
              "      <td>1.000000</td>\n",
              "      <td>0.032372</td>\n",
              "      <td>-0.024179</td>\n",
              "    </tr>\n",
              "    <tr>\n",
              "      <th>Intl Charge</th>\n",
              "      <td>0.009546</td>\n",
              "      <td>0.002884</td>\n",
              "      <td>-0.010092</td>\n",
              "      <td>-0.011067</td>\n",
              "      <td>-0.015180</td>\n",
              "      <td>0.999993</td>\n",
              "      <td>-0.009675</td>\n",
              "      <td>0.021666</td>\n",
              "      <td>-0.010094</td>\n",
              "      <td>-0.013887</td>\n",
              "      <td>0.008674</td>\n",
              "      <td>-0.011074</td>\n",
              "      <td>-0.013630</td>\n",
              "      <td>-0.015186</td>\n",
              "      <td>0.032372</td>\n",
              "      <td>1.000000</td>\n",
              "      <td>-0.018395</td>\n",
              "    </tr>\n",
              "    <tr>\n",
              "      <th>Area Code</th>\n",
              "      <td>-0.012463</td>\n",
              "      <td>-0.001994</td>\n",
              "      <td>-0.008264</td>\n",
              "      <td>0.003580</td>\n",
              "      <td>-0.005825</td>\n",
              "      <td>-0.018288</td>\n",
              "      <td>0.027572</td>\n",
              "      <td>-0.009646</td>\n",
              "      <td>-0.008264</td>\n",
              "      <td>-0.005376</td>\n",
              "      <td>-0.011886</td>\n",
              "      <td>0.003607</td>\n",
              "      <td>0.016522</td>\n",
              "      <td>-0.005845</td>\n",
              "      <td>-0.024179</td>\n",
              "      <td>-0.018395</td>\n",
              "      <td>1.000000</td>\n",
              "    </tr>\n",
              "  </tbody>\n",
              "</table>\n",
              "</div>"
            ],
            "text/plain": [
              "                  Account Length  VMail Message  ...  Intl Charge  Area Code\n",
              "Account Length          1.000000      -0.004628  ...     0.009546  -0.012463\n",
              "VMail Message          -0.004628       1.000000  ...     0.002884  -0.001994\n",
              "Day Mins                0.006216       0.000778  ...    -0.010092  -0.008264\n",
              "Eve Mins               -0.006757       0.017562  ...    -0.011067   0.003580\n",
              "Night Mins             -0.008955       0.007681  ...    -0.015180  -0.005825\n",
              "Intl Mins               0.009514       0.002856  ...     0.999993  -0.018288\n",
              "CustServ Calls         -0.003796      -0.013263  ...    -0.009675   0.027572\n",
              "Day Calls               0.038470      -0.009548  ...     0.021666  -0.009646\n",
              "Day Charge              0.006214       0.000776  ...    -0.010094  -0.008264\n",
              "Daily Charges MV        0.008347       0.001987  ...    -0.013887  -0.005376\n",
              "Eve Calls               0.019260      -0.005864  ...     0.008674  -0.011886\n",
              "Eve Charge             -0.006745       0.017578  ...    -0.011074   0.003607\n",
              "Night Calls            -0.013176       0.007123  ...    -0.013630   0.016522\n",
              "Night Charge           -0.008960       0.007663  ...    -0.015186  -0.005845\n",
              "Intl Calls              0.020661       0.013957  ...     0.032372  -0.024179\n",
              "Intl Charge             0.009546       0.002884  ...     1.000000  -0.018395\n",
              "Area Code              -0.012463      -0.001994  ...    -0.018395   1.000000\n",
              "\n",
              "[17 rows x 17 columns]"
            ]
          },
          "metadata": {
            "tags": []
          },
          "execution_count": 18
        }
      ]
    },
    {
      "cell_type": "code",
      "metadata": {
        "colab": {
          "base_uri": "https://localhost:8080/",
          "height": 365
        },
        "id": "I4fBT6cyt1Gs",
        "outputId": "f0079dfb-ab80-43f3-91e5-e87d9862f0a4"
      },
      "source": [
        "sns.heatmap(df.corr())"
      ],
      "execution_count": null,
      "outputs": [
        {
          "output_type": "execute_result",
          "data": {
            "text/plain": [
              "<matplotlib.axes._subplots.AxesSubplot at 0x7fb32eb7b7d0>"
            ]
          },
          "metadata": {
            "tags": []
          },
          "execution_count": 19
        },
        {
          "output_type": "display_data",
          "data": {
            "image/png": "[encoded data removed]",
            "text/plain": [
              "<Figure size 432x288 with 2 Axes>"
            ]
          },
          "metadata": {
            "tags": [],
            "needs_background": "light"
          }
        }
      ]
    },
    {
      "cell_type": "code",
      "metadata": {
        "colab": {
          "base_uri": "https://localhost:8080/",
          "height": 195
        },
        "id": "gjQafkwsugDe",
        "outputId": "bf15f093-00c2-422b-c7fc-abfcbb89cce5"
      },
      "source": [
        "df.groupby('Churn').mean()"
      ],
      "execution_count": null,
      "outputs": [
        {
          "output_type": "execute_result",
          "data": {
            "text/html": [
              "<div>\n",
              "<style scoped>\n",
              "    .dataframe tbody tr th:only-of-type {\n",
              "        vertical-align: middle;\n",
              "    }\n",
              "\n",
              "    .dataframe tbody tr th {\n",
              "        vertical-align: top;\n",
              "    }\n",
              "\n",
              "    .dataframe thead th {\n",
              "        text-align: right;\n",
              "    }\n",
              "</style>\n",
              "<table border=\"1\" class=\"dataframe\">\n",
              "  <thead>\n",
              "    <tr style=\"text-align: right;\">\n",
              "      <th></th>\n",
              "      <th>Account Length</th>\n",
              "      <th>VMail Message</th>\n",
              "      <th>Day Mins</th>\n",
              "      <th>Eve Mins</th>\n",
              "      <th>Night Mins</th>\n",
              "      <th>Intl Mins</th>\n",
              "      <th>CustServ Calls</th>\n",
              "      <th>Day Calls</th>\n",
              "      <th>Day Charge</th>\n",
              "      <th>Daily Charges MV</th>\n",
              "      <th>Eve Calls</th>\n",
              "      <th>Eve Charge</th>\n",
              "      <th>Night Calls</th>\n",
              "      <th>Night Charge</th>\n",
              "      <th>Intl Calls</th>\n",
              "      <th>Intl Charge</th>\n",
              "      <th>Area Code</th>\n",
              "    </tr>\n",
              "    <tr>\n",
              "      <th>Churn</th>\n",
              "      <th></th>\n",
              "      <th></th>\n",
              "      <th></th>\n",
              "      <th></th>\n",
              "      <th></th>\n",
              "      <th></th>\n",
              "      <th></th>\n",
              "      <th></th>\n",
              "      <th></th>\n",
              "      <th></th>\n",
              "      <th></th>\n",
              "      <th></th>\n",
              "      <th></th>\n",
              "      <th></th>\n",
              "      <th></th>\n",
              "      <th></th>\n",
              "      <th></th>\n",
              "    </tr>\n",
              "  </thead>\n",
              "  <tbody>\n",
              "    <tr>\n",
              "      <th>0.0</th>\n",
              "      <td>100.793684</td>\n",
              "      <td>8.604561</td>\n",
              "      <td>175.175754</td>\n",
              "      <td>199.043298</td>\n",
              "      <td>200.133193</td>\n",
              "      <td>10.158877</td>\n",
              "      <td>1.449825</td>\n",
              "      <td>100.283158</td>\n",
              "      <td>29.780421</td>\n",
              "      <td>29.776007</td>\n",
              "      <td>100.038596</td>\n",
              "      <td>16.918909</td>\n",
              "      <td>100.058246</td>\n",
              "      <td>9.006074</td>\n",
              "      <td>4.532982</td>\n",
              "      <td>2.743404</td>\n",
              "      <td>437.074737</td>\n",
              "    </tr>\n",
              "    <tr>\n",
              "      <th>1.0</th>\n",
              "      <td>102.664596</td>\n",
              "      <td>5.115942</td>\n",
              "      <td>206.914079</td>\n",
              "      <td>212.410145</td>\n",
              "      <td>205.231677</td>\n",
              "      <td>10.700000</td>\n",
              "      <td>2.229814</td>\n",
              "      <td>101.335404</td>\n",
              "      <td>35.175921</td>\n",
              "      <td>34.999545</td>\n",
              "      <td>100.561077</td>\n",
              "      <td>18.054969</td>\n",
              "      <td>100.399586</td>\n",
              "      <td>9.235528</td>\n",
              "      <td>4.163561</td>\n",
              "      <td>2.889545</td>\n",
              "      <td>437.817805</td>\n",
              "    </tr>\n",
              "  </tbody>\n",
              "</table>\n",
              "</div>"
            ],
            "text/plain": [
              "       Account Length  VMail Message  ...  Intl Charge   Area Code\n",
              "Churn                                 ...                         \n",
              "0.0        100.793684       8.604561  ...     2.743404  437.074737\n",
              "1.0        102.664596       5.115942  ...     2.889545  437.817805\n",
              "\n",
              "[2 rows x 17 columns]"
            ]
          },
          "metadata": {
            "tags": []
          },
          "execution_count": 20
        }
      ]
    },
    {
      "cell_type": "markdown",
      "metadata": {
        "id": "cHcduzC1uke9"
      },
      "source": [
        "in this both 'Day charge ' and 'Daily charge MV ' are like mirror columns . \n",
        "\n",
        "we remove 'Daily charge MV ' cause we filled some values with median  so better to use ' Day charge' "
      ]
    },
    {
      "cell_type": "code",
      "metadata": {
        "id": "o3bSRkUPxij8"
      },
      "source": [
        "df.drop(['Daily Charges MV'],axis=1,inplace=True)"
      ],
      "execution_count": null,
      "outputs": []
    },
    {
      "cell_type": "code",
      "metadata": {
        "id": "CLx6vsvixnTt"
      },
      "source": [
        "#removing unwanted column\n",
        "df.drop(['Area Code','Phone','State'],axis=1,inplace=True)"
      ],
      "execution_count": null,
      "outputs": []
    },
    {
      "cell_type": "markdown",
      "metadata": {
        "id": "I1ApCJ-XDHlD"
      },
      "source": [
        "and also\n",
        "\n",
        "Night Mins , Night Charge 0.999999\n",
        "\n",
        "Eve Charge , Eve Mins 1.000000\n",
        "\n",
        "Day Charge , Day Mins 1.000000\n",
        "\n",
        "Intl Charge , Intl Mins 0.999993\n",
        "\n",
        "are multicollinear variables so we only use one of them "
      ]
    },
    {
      "cell_type": "code",
      "metadata": {
        "id": "PLtwFgDcFS7c"
      },
      "source": [
        "df.drop(['Night Mins','Intl Mins','Eve Mins','Day Mins'],axis=1,inplace=True)"
      ],
      "execution_count": null,
      "outputs": []
    },
    {
      "cell_type": "code",
      "metadata": {
        "colab": {
          "base_uri": "https://localhost:8080/",
          "height": 220
        },
        "id": "6VAckgMZyIAM",
        "outputId": "4e35a911-127d-48fb-d048-a9b4f4d774b6"
      },
      "source": [
        "df.head()"
      ],
      "execution_count": null,
      "outputs": [
        {
          "output_type": "execute_result",
          "data": {
            "text/html": [
              "<div>\n",
              "<style scoped>\n",
              "    .dataframe tbody tr th:only-of-type {\n",
              "        vertical-align: middle;\n",
              "    }\n",
              "\n",
              "    .dataframe tbody tr th {\n",
              "        vertical-align: top;\n",
              "    }\n",
              "\n",
              "    .dataframe thead th {\n",
              "        text-align: right;\n",
              "    }\n",
              "</style>\n",
              "<table border=\"1\" class=\"dataframe\">\n",
              "  <thead>\n",
              "    <tr style=\"text-align: right;\">\n",
              "      <th></th>\n",
              "      <th>Account Length</th>\n",
              "      <th>VMail Message</th>\n",
              "      <th>CustServ Calls</th>\n",
              "      <th>Churn</th>\n",
              "      <th>Intl Plan</th>\n",
              "      <th>VMail Plan</th>\n",
              "      <th>Day Calls</th>\n",
              "      <th>Day Charge</th>\n",
              "      <th>Eve Calls</th>\n",
              "      <th>Eve Charge</th>\n",
              "      <th>Night Calls</th>\n",
              "      <th>Night Charge</th>\n",
              "      <th>Intl Calls</th>\n",
              "      <th>Intl Charge</th>\n",
              "    </tr>\n",
              "  </thead>\n",
              "  <tbody>\n",
              "    <tr>\n",
              "      <th>1</th>\n",
              "      <td>128.0</td>\n",
              "      <td>25.0</td>\n",
              "      <td>1.0</td>\n",
              "      <td>0.0</td>\n",
              "      <td>0.0</td>\n",
              "      <td>1.0</td>\n",
              "      <td>110.0</td>\n",
              "      <td>45.07</td>\n",
              "      <td>99.0</td>\n",
              "      <td>16.78</td>\n",
              "      <td>91.0</td>\n",
              "      <td>11.01</td>\n",
              "      <td>3.0</td>\n",
              "      <td>2.70</td>\n",
              "    </tr>\n",
              "    <tr>\n",
              "      <th>3</th>\n",
              "      <td>107.0</td>\n",
              "      <td>26.0</td>\n",
              "      <td>1.0</td>\n",
              "      <td>0.0</td>\n",
              "      <td>0.0</td>\n",
              "      <td>1.0</td>\n",
              "      <td>123.0</td>\n",
              "      <td>27.47</td>\n",
              "      <td>103.0</td>\n",
              "      <td>16.62</td>\n",
              "      <td>103.0</td>\n",
              "      <td>11.45</td>\n",
              "      <td>3.0</td>\n",
              "      <td>3.70</td>\n",
              "    </tr>\n",
              "    <tr>\n",
              "      <th>5</th>\n",
              "      <td>137.0</td>\n",
              "      <td>0.0</td>\n",
              "      <td>0.0</td>\n",
              "      <td>0.0</td>\n",
              "      <td>0.0</td>\n",
              "      <td>0.0</td>\n",
              "      <td>114.0</td>\n",
              "      <td>41.38</td>\n",
              "      <td>110.0</td>\n",
              "      <td>10.30</td>\n",
              "      <td>104.0</td>\n",
              "      <td>7.32</td>\n",
              "      <td>5.0</td>\n",
              "      <td>3.29</td>\n",
              "    </tr>\n",
              "    <tr>\n",
              "      <th>7</th>\n",
              "      <td>84.0</td>\n",
              "      <td>0.0</td>\n",
              "      <td>2.0</td>\n",
              "      <td>0.0</td>\n",
              "      <td>1.0</td>\n",
              "      <td>0.0</td>\n",
              "      <td>71.0</td>\n",
              "      <td>50.90</td>\n",
              "      <td>88.0</td>\n",
              "      <td>5.26</td>\n",
              "      <td>89.0</td>\n",
              "      <td>8.86</td>\n",
              "      <td>7.0</td>\n",
              "      <td>1.78</td>\n",
              "    </tr>\n",
              "    <tr>\n",
              "      <th>9</th>\n",
              "      <td>75.0</td>\n",
              "      <td>0.0</td>\n",
              "      <td>3.0</td>\n",
              "      <td>0.0</td>\n",
              "      <td>1.0</td>\n",
              "      <td>0.0</td>\n",
              "      <td>113.0</td>\n",
              "      <td>28.34</td>\n",
              "      <td>122.0</td>\n",
              "      <td>12.61</td>\n",
              "      <td>121.0</td>\n",
              "      <td>8.41</td>\n",
              "      <td>3.0</td>\n",
              "      <td>2.73</td>\n",
              "    </tr>\n",
              "  </tbody>\n",
              "</table>\n",
              "</div>"
            ],
            "text/plain": [
              "   Account Length  VMail Message  ...  Intl Calls Intl Charge\n",
              "1           128.0           25.0  ...         3.0        2.70\n",
              "3           107.0           26.0  ...         3.0        3.70\n",
              "5           137.0            0.0  ...         5.0        3.29\n",
              "7            84.0            0.0  ...         7.0        1.78\n",
              "9            75.0            0.0  ...         3.0        2.73\n",
              "\n",
              "[5 rows x 14 columns]"
            ]
          },
          "metadata": {
            "tags": []
          },
          "execution_count": 24
        }
      ]
    },
    {
      "cell_type": "markdown",
      "metadata": {
        "id": "emdGEVlDyU3L"
      },
      "source": [
        "**Data visualization:**"
      ]
    },
    {
      "cell_type": "code",
      "metadata": {
        "colab": {
          "base_uri": "https://localhost:8080/",
          "height": 296
        },
        "id": "93o6zJ_cybSp",
        "outputId": "e3e77dbf-7291-4ebb-8d49-64d2afa4451d"
      },
      "source": [
        "sns.countplot(x='Churn',data=df)"
      ],
      "execution_count": null,
      "outputs": [
        {
          "output_type": "execute_result",
          "data": {
            "text/plain": [
              "<matplotlib.axes._subplots.AxesSubplot at 0x7fb32ea6e550>"
            ]
          },
          "metadata": {
            "tags": []
          },
          "execution_count": 25
        },
        {
          "output_type": "display_data",
          "data": {
            "image/png": "[encoded data removed]",
            "text/plain": [
              "<Figure size 432x288 with 1 Axes>"
            ]
          },
          "metadata": {
            "tags": [],
            "needs_background": "light"
          }
        }
      ]
    },
    {
      "cell_type": "code",
      "metadata": {
        "colab": {
          "base_uri": "https://localhost:8080/"
        },
        "id": "t1ScrTdnyhj0",
        "outputId": "763d47b2-0ecc-4f19-8ccc-8b9a24bb97f0"
      },
      "source": [
        "df.Churn.value_counts()"
      ],
      "execution_count": null,
      "outputs": [
        {
          "output_type": "execute_result",
          "data": {
            "text/plain": [
              "0.0    2850\n",
              "1.0     483\n",
              "Name: Churn, dtype: int64"
            ]
          },
          "metadata": {
            "tags": []
          },
          "execution_count": 26
        }
      ]
    },
    {
      "cell_type": "markdown",
      "metadata": {
        "id": "rl95Cew1ynPy"
      },
      "source": [
        "based on the plot , 'Churn' class is imbalanced\n",
        "\n",
        "only 14.5% belongs to churned class"
      ]
    },
    {
      "cell_type": "code",
      "metadata": {
        "colab": {
          "base_uri": "https://localhost:8080/",
          "height": 296
        },
        "id": "5ubxWwXS7u8S",
        "outputId": "dac54b85-5788-4ce7-daca-082e35f5a74e"
      },
      "source": [
        "sns.countplot(x='CustServ Calls',hue = 'Churn',data=df )"
      ],
      "execution_count": null,
      "outputs": [
        {
          "output_type": "execute_result",
          "data": {
            "text/plain": [
              "<matplotlib.axes._subplots.AxesSubplot at 0x7fb32ea47390>"
            ]
          },
          "metadata": {
            "tags": []
          },
          "execution_count": 27
        },
        {
          "output_type": "display_data",
          "data": {
            "image/png": "[encoded data removed]",
            "text/plain": [
              "<Figure size 432x288 with 1 Axes>"
            ]
          },
          "metadata": {
            "tags": [],
            "needs_background": "light"
          }
        }
      ]
    },
    {
      "cell_type": "markdown",
      "metadata": {
        "id": "QBhZCE2IGXV-"
      },
      "source": [
        "from the above plot , we may consider that customers are more likely to churn when customer calls increases"
      ]
    },
    {
      "cell_type": "code",
      "metadata": {
        "colab": {
          "base_uri": "https://localhost:8080/",
          "height": 405
        },
        "id": "32EvByd0GlN8",
        "outputId": "03739e31-9cb7-42ea-8d8e-c6a95c861e8b"
      },
      "source": [
        "plt.figure(figsize=(10,6))\n",
        "df[df['Churn']==1]['Day Charge'].hist(bins=35,color = 'blue',label = 'Churn 1',alpha = 0.6)\n",
        "df[df['Churn']==0]['Day Charge'].hist(bins = 35,color = 'red',label = 'Churn 0',alpha = 0.6)\n",
        "plt.legend()\n",
        "plt.xlabel('DAY CHARGE')"
      ],
      "execution_count": null,
      "outputs": [
        {
          "output_type": "execute_result",
          "data": {
            "text/plain": [
              "Text(0.5, 0, 'DAY CHARGE')"
            ]
          },
          "metadata": {
            "tags": []
          },
          "execution_count": 28
        },
        {
          "output_type": "display_data",
          "data": {
            "image/png": "[encoded data removed]",
            "text/plain": [
              "<Figure size 720x432 with 1 Axes>"
            ]
          },
          "metadata": {
            "tags": [],
            "needs_background": "light"
          }
        }
      ]
    },
    {
      "cell_type": "markdown",
      "metadata": {
        "id": "yNm6UqE4UO9K"
      },
      "source": [
        "from the above plot , we may consider that customers with high daily charge more likely to churn"
      ]
    },
    {
      "cell_type": "code",
      "metadata": {
        "colab": {
          "base_uri": "https://localhost:8080/",
          "height": 459
        },
        "id": "cO6QhNzbUvt9",
        "outputId": "8cf9b379-31be-4142-d6b5-8abd156cb188"
      },
      "source": [
        "plt.figure(figsize=(11,7))\n",
        "sns.countplot(x ='Intl Plan',hue='Churn',data = df,palette='Set1')"
      ],
      "execution_count": null,
      "outputs": [
        {
          "output_type": "execute_result",
          "data": {
            "text/plain": [
              "<matplotlib.axes._subplots.AxesSubplot at 0x7fb32e85eb10>"
            ]
          },
          "metadata": {
            "tags": []
          },
          "execution_count": 29
        },
        {
          "output_type": "display_data",
          "data": {
            "image/png": "[encoded data removed]",
            "text/plain": [
              "<Figure size 792x504 with 1 Axes>"
            ]
          },
          "metadata": {
            "tags": [],
            "needs_background": "light"
          }
        }
      ]
    },
    {
      "cell_type": "markdown",
      "metadata": {
        "id": "1Wdr5qiBYBgJ"
      },
      "source": [
        "the customers with initial plan are more likely to churn than "
      ]
    },
    {
      "cell_type": "code",
      "metadata": {
        "colab": {
          "base_uri": "https://localhost:8080/",
          "height": 296
        },
        "id": "0HHuJEiyO9I6",
        "outputId": "2c1f0ab6-6b02-4031-ad46-03c0d8b8657f"
      },
      "source": [
        "sns.boxplot(x=\"Churn\",y=\"Day Charge\",data=df)"
      ],
      "execution_count": null,
      "outputs": [
        {
          "output_type": "execute_result",
          "data": {
            "text/plain": [
              "<matplotlib.axes._subplots.AxesSubplot at 0x7fb32e972650>"
            ]
          },
          "metadata": {
            "tags": []
          },
          "execution_count": 30
        },
        {
          "output_type": "display_data",
          "data": {
            "image/png": "[encoded data removed]",
            "text/plain": [
              "<Figure size 432x288 with 1 Axes>"
            ]
          },
          "metadata": {
            "tags": [],
            "needs_background": "light"
          }
        }
      ]
    },
    {
      "cell_type": "markdown",
      "metadata": {
        "id": "GaosecPUS8yT"
      },
      "source": [
        "people are more likely to churn when 'Day charge' is higher"
      ]
    },
    {
      "cell_type": "code",
      "metadata": {
        "colab": {
          "base_uri": "https://localhost:8080/",
          "height": 296
        },
        "id": "1aKbBSxnTHpo",
        "outputId": "3bc37a7c-2acf-489e-b446-bb43ed96136a"
      },
      "source": [
        "sns.countplot(x ='VMail Plan',hue='Churn',data = df,palette='Set1')"
      ],
      "execution_count": null,
      "outputs": [
        {
          "output_type": "execute_result",
          "data": {
            "text/plain": [
              "<matplotlib.axes._subplots.AxesSubplot at 0x7fb32ebcb750>"
            ]
          },
          "metadata": {
            "tags": []
          },
          "execution_count": 31
        },
        {
          "output_type": "display_data",
          "data": {
            "image/png": "[encoded data removed]",
            "text/plain": [
              "<Figure size 432x288 with 1 Axes>"
            ]
          },
          "metadata": {
            "tags": [],
            "needs_background": "light"
          }
        }
      ]
    },
    {
      "cell_type": "code",
      "metadata": {
        "colab": {
          "base_uri": "https://localhost:8080/",
          "height": 296
        },
        "id": "70L5ZvolT4H0",
        "outputId": "756dd530-5864-4c60-dd0b-a1b635a06700"
      },
      "source": [
        "sns.boxplot(x=\"Churn\",y=\"Eve Charge\",data=df)"
      ],
      "execution_count": null,
      "outputs": [
        {
          "output_type": "execute_result",
          "data": {
            "text/plain": [
              "<matplotlib.axes._subplots.AxesSubplot at 0x7fb32e8ce5d0>"
            ]
          },
          "metadata": {
            "tags": []
          },
          "execution_count": 32
        },
        {
          "output_type": "display_data",
          "data": {
            "image/png": "[encoded data removed]",
            "text/plain": [
              "<Figure size 432x288 with 1 Axes>"
            ]
          },
          "metadata": {
            "tags": [],
            "needs_background": "light"
          }
        }
      ]
    },
    {
      "cell_type": "code",
      "metadata": {
        "colab": {
          "base_uri": "https://localhost:8080/",
          "height": 296
        },
        "id": "y6CuUzgNUfmI",
        "outputId": "760dde5a-f76a-434e-df25-3142e9281641"
      },
      "source": [
        "sns.boxplot(x=\"Churn\",y=\"Night Charge\",data=df)"
      ],
      "execution_count": null,
      "outputs": [
        {
          "output_type": "execute_result",
          "data": {
            "text/plain": [
              "<matplotlib.axes._subplots.AxesSubplot at 0x7fb32e69c610>"
            ]
          },
          "metadata": {
            "tags": []
          },
          "execution_count": 33
        },
        {
          "output_type": "display_data",
          "data": {
            "image/png": "[encoded data removed]",
            "text/plain": [
              "<Figure size 432x288 with 1 Axes>"
            ]
          },
          "metadata": {
            "tags": [],
            "needs_background": "light"
          }
        }
      ]
    },
    {
      "cell_type": "markdown",
      "metadata": {
        "id": "V9aWeYYXVbo-"
      },
      "source": [
        "so most of the people who are churned are the one who were gwtting the heavy bill"
      ]
    },
    {
      "cell_type": "markdown",
      "metadata": {
        "id": "vLYqhL4AWiHX"
      },
      "source": [
        "**managing Outliers:**"
      ]
    },
    {
      "cell_type": "code",
      "metadata": {
        "colab": {
          "base_uri": "https://localhost:8080/",
          "height": 350
        },
        "id": "ZSASFrDBWmsY",
        "outputId": "f09f1d88-cf90-4b93-a9af-565eb86a9ba5"
      },
      "source": [
        "sns.boxplot(df['Account Length'])"
      ],
      "execution_count": null,
      "outputs": [
        {
          "output_type": "stream",
          "text": [
            "/usr/local/lib/python3.7/dist-packages/seaborn/_decorators.py:43: FutureWarning: Pass the following variable as a keyword arg: x. From version 0.12, the only valid positional argument will be `data`, and passing other arguments without an explicit keyword will result in an error or misinterpretation.\n",
            "  FutureWarning\n"
          ],
          "name": "stderr"
        },
        {
          "output_type": "execute_result",
          "data": {
            "text/plain": [
              "<matplotlib.axes._subplots.AxesSubplot at 0x7fb32e61d910>"
            ]
          },
          "metadata": {
            "tags": []
          },
          "execution_count": 34
        },
        {
          "output_type": "display_data",
          "data": {
            "image/png": "[encoded data removed]",
            "text/plain": [
              "<Figure size 432x288 with 1 Axes>"
            ]
          },
          "metadata": {
            "tags": [],
            "needs_background": "light"
          }
        }
      ]
    },
    {
      "cell_type": "markdown",
      "metadata": {
        "id": "Uin4Yr8nZjoh"
      },
      "source": [
        "we have outliers in it,we will clip the otliers"
      ]
    },
    {
      "cell_type": "code",
      "metadata": {
        "id": "7COikuocZxjJ"
      },
      "source": [
        "df['Account Length'].clip(upper = 200,inplace = True)"
      ],
      "execution_count": null,
      "outputs": []
    },
    {
      "cell_type": "code",
      "metadata": {
        "colab": {
          "base_uri": "https://localhost:8080/",
          "height": 350
        },
        "id": "6OiFC4aCaCdk",
        "outputId": "8888dbe1-3ad8-45ce-dee1-3d435b6157a3"
      },
      "source": [
        "#after clipping \n",
        "sns.boxplot(df['Account Length'])"
      ],
      "execution_count": null,
      "outputs": [
        {
          "output_type": "stream",
          "text": [
            "/usr/local/lib/python3.7/dist-packages/seaborn/_decorators.py:43: FutureWarning: Pass the following variable as a keyword arg: x. From version 0.12, the only valid positional argument will be `data`, and passing other arguments without an explicit keyword will result in an error or misinterpretation.\n",
            "  FutureWarning\n"
          ],
          "name": "stderr"
        },
        {
          "output_type": "execute_result",
          "data": {
            "text/plain": [
              "<matplotlib.axes._subplots.AxesSubplot at 0x7fb32e594f50>"
            ]
          },
          "metadata": {
            "tags": []
          },
          "execution_count": 36
        },
        {
          "output_type": "display_data",
          "data": {
            "image/png": "[encoded data removed]",
            "text/plain": [
              "<Figure size 432x288 with 1 Axes>"
            ]
          },
          "metadata": {
            "tags": [],
            "needs_background": "light"
          }
        }
      ]
    },
    {
      "cell_type": "code",
      "metadata": {
        "colab": {
          "base_uri": "https://localhost:8080/",
          "height": 350
        },
        "id": "0nTRajSzaLjv",
        "outputId": "6ebb5acd-25d4-4688-b186-f445dfafd6ac"
      },
      "source": [
        "sns.boxplot(df['VMail Message'])"
      ],
      "execution_count": null,
      "outputs": [
        {
          "output_type": "stream",
          "text": [
            "/usr/local/lib/python3.7/dist-packages/seaborn/_decorators.py:43: FutureWarning: Pass the following variable as a keyword arg: x. From version 0.12, the only valid positional argument will be `data`, and passing other arguments without an explicit keyword will result in an error or misinterpretation.\n",
            "  FutureWarning\n"
          ],
          "name": "stderr"
        },
        {
          "output_type": "execute_result",
          "data": {
            "text/plain": [
              "<matplotlib.axes._subplots.AxesSubplot at 0x7fb32e50c1d0>"
            ]
          },
          "metadata": {
            "tags": []
          },
          "execution_count": 37
        },
        {
          "output_type": "display_data",
          "data": {
            "image/png": "[encoded data removed]",
            "text/plain": [
              "<Figure size 432x288 with 1 Axes>"
            ]
          },
          "metadata": {
            "tags": [],
            "needs_background": "light"
          }
        }
      ]
    },
    {
      "cell_type": "code",
      "metadata": {
        "colab": {
          "base_uri": "https://localhost:8080/",
          "height": 350
        },
        "id": "wzEqSP4laiXO",
        "outputId": "52927d26-cd82-4ad8-df40-243c253655bf"
      },
      "source": [
        "sns.boxplot(df['Day Charge'])"
      ],
      "execution_count": null,
      "outputs": [
        {
          "output_type": "stream",
          "text": [
            "/usr/local/lib/python3.7/dist-packages/seaborn/_decorators.py:43: FutureWarning: Pass the following variable as a keyword arg: x. From version 0.12, the only valid positional argument will be `data`, and passing other arguments without an explicit keyword will result in an error or misinterpretation.\n",
            "  FutureWarning\n"
          ],
          "name": "stderr"
        },
        {
          "output_type": "execute_result",
          "data": {
            "text/plain": [
              "<matplotlib.axes._subplots.AxesSubplot at 0x7fb32e465a90>"
            ]
          },
          "metadata": {
            "tags": []
          },
          "execution_count": 38
        },
        {
          "output_type": "display_data",
          "data": {
            "image/png": "[encoded data removed]",
            "text/plain": [
              "<Figure size 432x288 with 1 Axes>"
            ]
          },
          "metadata": {
            "tags": [],
            "needs_background": "light"
          }
        }
      ]
    },
    {
      "cell_type": "code",
      "metadata": {
        "colab": {
          "base_uri": "https://localhost:8080/"
        },
        "id": "sfbUyTSkaxg8",
        "outputId": "e23941a1-d7b9-466f-fce2-587e611eb83b"
      },
      "source": [
        "print(df['Day Charge'].quantile(0.99))\n",
        "print(df['Day Charge'].quantile(0.01))"
      ],
      "execution_count": null,
      "outputs": [
        {
          "output_type": "stream",
          "text": [
            "51.876799999999996\n",
            "8.8132\n"
          ],
          "name": "stdout"
        }
      ]
    },
    {
      "cell_type": "code",
      "metadata": {
        "id": "Dt0EFbQUbVlz"
      },
      "source": [
        "df['Day Charge'].clip(lower=8.813,upper=51.88,inplace= True)"
      ],
      "execution_count": null,
      "outputs": []
    },
    {
      "cell_type": "code",
      "metadata": {
        "colab": {
          "base_uri": "https://localhost:8080/",
          "height": 350
        },
        "id": "c0GFQ24bb0Wl",
        "outputId": "e2b24c2c-0764-42bd-e41f-0fafa55614a2"
      },
      "source": [
        "sns.boxplot(df['Eve Charge'])"
      ],
      "execution_count": null,
      "outputs": [
        {
          "output_type": "stream",
          "text": [
            "/usr/local/lib/python3.7/dist-packages/seaborn/_decorators.py:43: FutureWarning: Pass the following variable as a keyword arg: x. From version 0.12, the only valid positional argument will be `data`, and passing other arguments without an explicit keyword will result in an error or misinterpretation.\n",
            "  FutureWarning\n"
          ],
          "name": "stderr"
        },
        {
          "output_type": "execute_result",
          "data": {
            "text/plain": [
              "<matplotlib.axes._subplots.AxesSubplot at 0x7fb32e3e3250>"
            ]
          },
          "metadata": {
            "tags": []
          },
          "execution_count": 41
        },
        {
          "output_type": "display_data",
          "data": {
            "image/png": "[encoded data removed]",
            "text/plain": [
              "<Figure size 432x288 with 1 Axes>"
            ]
          },
          "metadata": {
            "tags": [],
            "needs_background": "light"
          }
        }
      ]
    },
    {
      "cell_type": "code",
      "metadata": {
        "colab": {
          "base_uri": "https://localhost:8080/"
        },
        "id": "mZT9EeRocFxi",
        "outputId": "aab97dd8-c617-4909-b0c7-bea7ab347b61"
      },
      "source": [
        "print(df['Eve Charge'].quantile(0.99))\n",
        "print(df['Eve Charge'].quantile(0.01))"
      ],
      "execution_count": null,
      "outputs": [
        {
          "output_type": "stream",
          "text": [
            "27.113599999999998\n",
            "6.7592\n"
          ],
          "name": "stdout"
        }
      ]
    },
    {
      "cell_type": "code",
      "metadata": {
        "id": "L3SEUukIcRCf"
      },
      "source": [
        "df['Eve Charge'].clip(lower=6.76,upper=27.11,inplace= True)"
      ],
      "execution_count": null,
      "outputs": []
    },
    {
      "cell_type": "code",
      "metadata": {
        "colab": {
          "base_uri": "https://localhost:8080/",
          "height": 350
        },
        "id": "elYzwrf1cwXV",
        "outputId": "ed42d6e6-3904-483f-fce3-f1119f0ce5e2"
      },
      "source": [
        "sns.boxplot(df['Night Charge'])"
      ],
      "execution_count": null,
      "outputs": [
        {
          "output_type": "stream",
          "text": [
            "/usr/local/lib/python3.7/dist-packages/seaborn/_decorators.py:43: FutureWarning: Pass the following variable as a keyword arg: x. From version 0.12, the only valid positional argument will be `data`, and passing other arguments without an explicit keyword will result in an error or misinterpretation.\n",
            "  FutureWarning\n"
          ],
          "name": "stderr"
        },
        {
          "output_type": "execute_result",
          "data": {
            "text/plain": [
              "<matplotlib.axes._subplots.AxesSubplot at 0x7fb32e41a990>"
            ]
          },
          "metadata": {
            "tags": []
          },
          "execution_count": 44
        },
        {
          "output_type": "display_data",
          "data": {
            "image/png": "[encoded data removed]",
            "text/plain": [
              "<Figure size 432x288 with 1 Axes>"
            ]
          },
          "metadata": {
            "tags": [],
            "needs_background": "light"
          }
        }
      ]
    },
    {
      "cell_type": "code",
      "metadata": {
        "colab": {
          "base_uri": "https://localhost:8080/"
        },
        "id": "gNNNYq_EdJPY",
        "outputId": "4e2fcc82-bf32-4050-f516-a20eee112e1a"
      },
      "source": [
        "print(df['Night Charge'].quantile(0.99))\n",
        "print(df['Night Charge'].quantile(0.01))"
      ],
      "execution_count": null,
      "outputs": [
        {
          "output_type": "stream",
          "text": [
            "14.283999999999992\n",
            "3.5764\n"
          ],
          "name": "stdout"
        }
      ]
    },
    {
      "cell_type": "code",
      "metadata": {
        "id": "iuwVPjuEdweI"
      },
      "source": [
        "df['Night Charge'].clip(lower=6.76,upper=27.11,inplace= True)"
      ],
      "execution_count": null,
      "outputs": []
    },
    {
      "cell_type": "code",
      "metadata": {
        "colab": {
          "base_uri": "https://localhost:8080/",
          "height": 350
        },
        "id": "UxsS9UYS2OD4",
        "outputId": "465e82d8-6d76-4a10-f3cd-f802b4e1dd43"
      },
      "source": [
        "sns.boxplot(df['Intl Charge'])"
      ],
      "execution_count": null,
      "outputs": [
        {
          "output_type": "stream",
          "text": [
            "/usr/local/lib/python3.7/dist-packages/seaborn/_decorators.py:43: FutureWarning: Pass the following variable as a keyword arg: x. From version 0.12, the only valid positional argument will be `data`, and passing other arguments without an explicit keyword will result in an error or misinterpretation.\n",
            "  FutureWarning\n"
          ],
          "name": "stderr"
        },
        {
          "output_type": "execute_result",
          "data": {
            "text/plain": [
              "<matplotlib.axes._subplots.AxesSubplot at 0x7fb32e34d890>"
            ]
          },
          "metadata": {
            "tags": []
          },
          "execution_count": 47
        },
        {
          "output_type": "display_data",
          "data": {
            "image/png": "[encoded data removed]",
            "text/plain": [
              "<Figure size 432x288 with 1 Axes>"
            ]
          },
          "metadata": {
            "tags": [],
            "needs_background": "light"
          }
        }
      ]
    },
    {
      "cell_type": "code",
      "metadata": {
        "colab": {
          "base_uri": "https://localhost:8080/"
        },
        "id": "0vjNy3yJ2WTv",
        "outputId": "4f8b56f6-2b00-4bea-d227-827c324ddbfa"
      },
      "source": [
        "print(df['Intl Charge'].quantile(0.99))\n",
        "print(df['Intl Charge'].quantile(0.01))"
      ],
      "execution_count": null,
      "outputs": [
        {
          "output_type": "stream",
          "text": [
            "4.5003999999999955\n",
            "0.8996\n"
          ],
          "name": "stdout"
        }
      ]
    },
    {
      "cell_type": "code",
      "metadata": {
        "id": "8l1vYBQQ2iLO"
      },
      "source": [
        "df['Intl Charge'].clip(lower=0.9,upper=4.5,inplace= True)"
      ],
      "execution_count": null,
      "outputs": []
    },
    {
      "cell_type": "code",
      "metadata": {
        "colab": {
          "base_uri": "https://localhost:8080/",
          "height": 350
        },
        "id": "SPtbdJ4w3NHv",
        "outputId": "674132cf-885c-4cbd-e2a0-0d7b6f79ad89"
      },
      "source": [
        "sns.boxplot(df['Day Calls'])"
      ],
      "execution_count": null,
      "outputs": [
        {
          "output_type": "stream",
          "text": [
            "/usr/local/lib/python3.7/dist-packages/seaborn/_decorators.py:43: FutureWarning: Pass the following variable as a keyword arg: x. From version 0.12, the only valid positional argument will be `data`, and passing other arguments without an explicit keyword will result in an error or misinterpretation.\n",
            "  FutureWarning\n"
          ],
          "name": "stderr"
        },
        {
          "output_type": "execute_result",
          "data": {
            "text/plain": [
              "<matplotlib.axes._subplots.AxesSubplot at 0x7fb32e31d6d0>"
            ]
          },
          "metadata": {
            "tags": []
          },
          "execution_count": 50
        },
        {
          "output_type": "display_data",
          "data": {
            "image/png": "[encoded data removed]",
            "text/plain": [
              "<Figure size 432x288 with 1 Axes>"
            ]
          },
          "metadata": {
            "tags": [],
            "needs_background": "light"
          }
        }
      ]
    },
    {
      "cell_type": "code",
      "metadata": {
        "colab": {
          "base_uri": "https://localhost:8080/"
        },
        "id": "a67PD7so3h3m",
        "outputId": "74f0c969-5bd3-4fdd-9ece-2d8023e05382"
      },
      "source": [
        "print(df['Day Calls'].quantile(0.99))\n",
        "print(df['Day Calls'].quantile(0.01))"
      ],
      "execution_count": null,
      "outputs": [
        {
          "output_type": "stream",
          "text": [
            "146.0\n",
            "54.0\n"
          ],
          "name": "stdout"
        }
      ]
    },
    {
      "cell_type": "code",
      "metadata": {
        "id": "Ukvf1SM63uc7"
      },
      "source": [
        "df['Day Calls'].clip(lower=54,upper=146,inplace= True)"
      ],
      "execution_count": null,
      "outputs": []
    },
    {
      "cell_type": "code",
      "metadata": {
        "colab": {
          "base_uri": "https://localhost:8080/",
          "height": 350
        },
        "id": "Iop2BrYz4MYF",
        "outputId": "29dbf18f-10b5-45a4-f770-ab47ebef2b56"
      },
      "source": [
        "sns.boxplot(df['Eve Calls'])"
      ],
      "execution_count": null,
      "outputs": [
        {
          "output_type": "stream",
          "text": [
            "/usr/local/lib/python3.7/dist-packages/seaborn/_decorators.py:43: FutureWarning: Pass the following variable as a keyword arg: x. From version 0.12, the only valid positional argument will be `data`, and passing other arguments without an explicit keyword will result in an error or misinterpretation.\n",
            "  FutureWarning\n"
          ],
          "name": "stderr"
        },
        {
          "output_type": "execute_result",
          "data": {
            "text/plain": [
              "<matplotlib.axes._subplots.AxesSubplot at 0x7fb32e277210>"
            ]
          },
          "metadata": {
            "tags": []
          },
          "execution_count": 53
        },
        {
          "output_type": "display_data",
          "data": {
            "image/png": "[encoded data removed]",
            "text/plain": [
              "<Figure size 432x288 with 1 Axes>"
            ]
          },
          "metadata": {
            "tags": [],
            "needs_background": "light"
          }
        }
      ]
    },
    {
      "cell_type": "code",
      "metadata": {
        "colab": {
          "base_uri": "https://localhost:8080/"
        },
        "id": "8mZWU8Ch4W40",
        "outputId": "0950b1d5-3b68-4b09-d772-d2800a45c005"
      },
      "source": [
        "print(df['Eve Calls'].quantile(0.99))\n",
        "print(df['Eve Calls'].quantile(0.01))"
      ],
      "execution_count": null,
      "outputs": [
        {
          "output_type": "stream",
          "text": [
            "147.0\n",
            "53.0\n"
          ],
          "name": "stdout"
        }
      ]
    },
    {
      "cell_type": "code",
      "metadata": {
        "id": "QlkA-K5q4gkV"
      },
      "source": [
        "df['Eve Calls'].clip(lower=53,upper=147,inplace= True)"
      ],
      "execution_count": null,
      "outputs": []
    },
    {
      "cell_type": "code",
      "metadata": {
        "colab": {
          "base_uri": "https://localhost:8080/",
          "height": 350
        },
        "id": "4hJtymsI48yd",
        "outputId": "1ecff3c3-7749-4a72-b9e9-0d93228826ae"
      },
      "source": [
        "sns.boxplot(df['Night Calls'])"
      ],
      "execution_count": null,
      "outputs": [
        {
          "output_type": "stream",
          "text": [
            "/usr/local/lib/python3.7/dist-packages/seaborn/_decorators.py:43: FutureWarning: Pass the following variable as a keyword arg: x. From version 0.12, the only valid positional argument will be `data`, and passing other arguments without an explicit keyword will result in an error or misinterpretation.\n",
            "  FutureWarning\n"
          ],
          "name": "stderr"
        },
        {
          "output_type": "execute_result",
          "data": {
            "text/plain": [
              "<matplotlib.axes._subplots.AxesSubplot at 0x7fb32e201050>"
            ]
          },
          "metadata": {
            "tags": []
          },
          "execution_count": 56
        },
        {
          "output_type": "display_data",
          "data": {
            "image/png": "[encoded data removed]",
            "text/plain": [
              "<Figure size 432x288 with 1 Axes>"
            ]
          },
          "metadata": {
            "tags": [],
            "needs_background": "light"
          }
        }
      ]
    },
    {
      "cell_type": "code",
      "metadata": {
        "colab": {
          "base_uri": "https://localhost:8080/"
        },
        "id": "Sar9s4MK5Hx-",
        "outputId": "8b07574b-bd43-4ee9-804a-aaec28302754"
      },
      "source": [
        "print(df['Night Calls'].quantile(0.99))\n",
        "print(df['Night Calls'].quantile(0.01))"
      ],
      "execution_count": null,
      "outputs": [
        {
          "output_type": "stream",
          "text": [
            "146.67999999999984\n",
            "57.0\n"
          ],
          "name": "stdout"
        }
      ]
    },
    {
      "cell_type": "code",
      "metadata": {
        "id": "fRr2XKMg5NY6"
      },
      "source": [
        "df['Night Calls'].clip(lower=57,upper=146.7,inplace= True)"
      ],
      "execution_count": null,
      "outputs": []
    },
    {
      "cell_type": "code",
      "metadata": {
        "colab": {
          "base_uri": "https://localhost:8080/",
          "height": 350
        },
        "id": "Z1Kxcwfr6BGa",
        "outputId": "a0eafeac-7f91-4a17-d2af-4f6f3b585d71"
      },
      "source": [
        "sns.boxplot(df['Intl Calls'])"
      ],
      "execution_count": null,
      "outputs": [
        {
          "output_type": "stream",
          "text": [
            "/usr/local/lib/python3.7/dist-packages/seaborn/_decorators.py:43: FutureWarning: Pass the following variable as a keyword arg: x. From version 0.12, the only valid positional argument will be `data`, and passing other arguments without an explicit keyword will result in an error or misinterpretation.\n",
            "  FutureWarning\n"
          ],
          "name": "stderr"
        },
        {
          "output_type": "execute_result",
          "data": {
            "text/plain": [
              "<matplotlib.axes._subplots.AxesSubplot at 0x7fb32e170a50>"
            ]
          },
          "metadata": {
            "tags": []
          },
          "execution_count": 59
        },
        {
          "output_type": "display_data",
          "data": {
            "image/png": "[encoded data removed]",
            "text/plain": [
              "<Figure size 432x288 with 1 Axes>"
            ]
          },
          "metadata": {
            "tags": [],
            "needs_background": "light"
          }
        }
      ]
    },
    {
      "cell_type": "code",
      "metadata": {
        "colab": {
          "base_uri": "https://localhost:8080/"
        },
        "id": "jVTEunMH6IsQ",
        "outputId": "56d95202-127e-4128-823a-d8f101abc887"
      },
      "source": [
        "print(df['Intl Calls'].quantile(0.99))\n",
        "print(df['Intl Calls'].quantile(0.01))"
      ],
      "execution_count": null,
      "outputs": [
        {
          "output_type": "stream",
          "text": [
            "13.0\n",
            "1.0\n"
          ],
          "name": "stdout"
        }
      ]
    },
    {
      "cell_type": "code",
      "metadata": {
        "id": "8HlUGzms6RXC"
      },
      "source": [
        "df['Intl Calls'].clip(lower=1,upper=13,inplace= True)"
      ],
      "execution_count": null,
      "outputs": []
    },
    {
      "cell_type": "markdown",
      "metadata": {
        "id": "toNoSuh9Z74R"
      },
      "source": [
        "**Separating x and y:**"
      ]
    },
    {
      "cell_type": "code",
      "metadata": {
        "id": "bCydFo3faGKU"
      },
      "source": [
        "X = df.drop('Churn',axis=1)\n",
        "y = df['Churn']"
      ],
      "execution_count": null,
      "outputs": []
    },
    {
      "cell_type": "code",
      "metadata": {
        "colab": {
          "base_uri": "https://localhost:8080/",
          "height": 220
        },
        "id": "fT6ghnfhhFeh",
        "outputId": "6468ee92-9afb-48fd-9ff6-e44105cede50"
      },
      "source": [
        "X.head()"
      ],
      "execution_count": null,
      "outputs": [
        {
          "output_type": "execute_result",
          "data": {
            "text/html": [
              "<div>\n",
              "<style scoped>\n",
              "    .dataframe tbody tr th:only-of-type {\n",
              "        vertical-align: middle;\n",
              "    }\n",
              "\n",
              "    .dataframe tbody tr th {\n",
              "        vertical-align: top;\n",
              "    }\n",
              "\n",
              "    .dataframe thead th {\n",
              "        text-align: right;\n",
              "    }\n",
              "</style>\n",
              "<table border=\"1\" class=\"dataframe\">\n",
              "  <thead>\n",
              "    <tr style=\"text-align: right;\">\n",
              "      <th></th>\n",
              "      <th>Account Length</th>\n",
              "      <th>VMail Message</th>\n",
              "      <th>CustServ Calls</th>\n",
              "      <th>Intl Plan</th>\n",
              "      <th>VMail Plan</th>\n",
              "      <th>Day Calls</th>\n",
              "      <th>Day Charge</th>\n",
              "      <th>Eve Calls</th>\n",
              "      <th>Eve Charge</th>\n",
              "      <th>Night Calls</th>\n",
              "      <th>Night Charge</th>\n",
              "      <th>Intl Calls</th>\n",
              "      <th>Intl Charge</th>\n",
              "    </tr>\n",
              "  </thead>\n",
              "  <tbody>\n",
              "    <tr>\n",
              "      <th>1</th>\n",
              "      <td>128.0</td>\n",
              "      <td>25.0</td>\n",
              "      <td>1.0</td>\n",
              "      <td>0.0</td>\n",
              "      <td>1.0</td>\n",
              "      <td>110.0</td>\n",
              "      <td>45.07</td>\n",
              "      <td>99.0</td>\n",
              "      <td>16.78</td>\n",
              "      <td>91.0</td>\n",
              "      <td>11.01</td>\n",
              "      <td>3.0</td>\n",
              "      <td>2.70</td>\n",
              "    </tr>\n",
              "    <tr>\n",
              "      <th>3</th>\n",
              "      <td>107.0</td>\n",
              "      <td>26.0</td>\n",
              "      <td>1.0</td>\n",
              "      <td>0.0</td>\n",
              "      <td>1.0</td>\n",
              "      <td>123.0</td>\n",
              "      <td>27.47</td>\n",
              "      <td>103.0</td>\n",
              "      <td>16.62</td>\n",
              "      <td>103.0</td>\n",
              "      <td>11.45</td>\n",
              "      <td>3.0</td>\n",
              "      <td>3.70</td>\n",
              "    </tr>\n",
              "    <tr>\n",
              "      <th>5</th>\n",
              "      <td>137.0</td>\n",
              "      <td>0.0</td>\n",
              "      <td>0.0</td>\n",
              "      <td>0.0</td>\n",
              "      <td>0.0</td>\n",
              "      <td>114.0</td>\n",
              "      <td>41.38</td>\n",
              "      <td>110.0</td>\n",
              "      <td>10.30</td>\n",
              "      <td>104.0</td>\n",
              "      <td>7.32</td>\n",
              "      <td>5.0</td>\n",
              "      <td>3.29</td>\n",
              "    </tr>\n",
              "    <tr>\n",
              "      <th>7</th>\n",
              "      <td>84.0</td>\n",
              "      <td>0.0</td>\n",
              "      <td>2.0</td>\n",
              "      <td>1.0</td>\n",
              "      <td>0.0</td>\n",
              "      <td>71.0</td>\n",
              "      <td>50.90</td>\n",
              "      <td>88.0</td>\n",
              "      <td>6.76</td>\n",
              "      <td>89.0</td>\n",
              "      <td>8.86</td>\n",
              "      <td>7.0</td>\n",
              "      <td>1.78</td>\n",
              "    </tr>\n",
              "    <tr>\n",
              "      <th>9</th>\n",
              "      <td>75.0</td>\n",
              "      <td>0.0</td>\n",
              "      <td>3.0</td>\n",
              "      <td>1.0</td>\n",
              "      <td>0.0</td>\n",
              "      <td>113.0</td>\n",
              "      <td>28.34</td>\n",
              "      <td>122.0</td>\n",
              "      <td>12.61</td>\n",
              "      <td>121.0</td>\n",
              "      <td>8.41</td>\n",
              "      <td>3.0</td>\n",
              "      <td>2.73</td>\n",
              "    </tr>\n",
              "  </tbody>\n",
              "</table>\n",
              "</div>"
            ],
            "text/plain": [
              "   Account Length  VMail Message  ...  Intl Calls Intl Charge\n",
              "1           128.0           25.0  ...         3.0        2.70\n",
              "3           107.0           26.0  ...         3.0        3.70\n",
              "5           137.0            0.0  ...         5.0        3.29\n",
              "7            84.0            0.0  ...         7.0        1.78\n",
              "9            75.0            0.0  ...         3.0        2.73\n",
              "\n",
              "[5 rows x 13 columns]"
            ]
          },
          "metadata": {
            "tags": []
          },
          "execution_count": 63
        }
      ]
    },
    {
      "cell_type": "markdown",
      "metadata": {
        "id": "hrxGjQ5ghWBy"
      },
      "source": [
        "**encoding:**"
      ]
    },
    {
      "cell_type": "code",
      "metadata": {
        "id": "kXYJnebRhb3U"
      },
      "source": [
        "X = pd.get_dummies(X,columns=['Intl Plan','VMail Plan','CustServ Calls'],drop_first=True)"
      ],
      "execution_count": null,
      "outputs": []
    },
    {
      "cell_type": "code",
      "metadata": {
        "colab": {
          "base_uri": "https://localhost:8080/",
          "height": 240
        },
        "id": "xHLHgfZWiBl4",
        "outputId": "99d536bb-5238-4d98-fc5d-8b3fbaa212cc"
      },
      "source": [
        "X.head()"
      ],
      "execution_count": null,
      "outputs": [
        {
          "output_type": "execute_result",
          "data": {
            "text/html": [
              "<div>\n",
              "<style scoped>\n",
              "    .dataframe tbody tr th:only-of-type {\n",
              "        vertical-align: middle;\n",
              "    }\n",
              "\n",
              "    .dataframe tbody tr th {\n",
              "        vertical-align: top;\n",
              "    }\n",
              "\n",
              "    .dataframe thead th {\n",
              "        text-align: right;\n",
              "    }\n",
              "</style>\n",
              "<table border=\"1\" class=\"dataframe\">\n",
              "  <thead>\n",
              "    <tr style=\"text-align: right;\">\n",
              "      <th></th>\n",
              "      <th>Account Length</th>\n",
              "      <th>VMail Message</th>\n",
              "      <th>Day Calls</th>\n",
              "      <th>Day Charge</th>\n",
              "      <th>Eve Calls</th>\n",
              "      <th>Eve Charge</th>\n",
              "      <th>Night Calls</th>\n",
              "      <th>Night Charge</th>\n",
              "      <th>Intl Calls</th>\n",
              "      <th>Intl Charge</th>\n",
              "      <th>Intl Plan_1.0</th>\n",
              "      <th>VMail Plan_1.0</th>\n",
              "      <th>CustServ Calls_1.0</th>\n",
              "      <th>CustServ Calls_2.0</th>\n",
              "      <th>CustServ Calls_3.0</th>\n",
              "      <th>CustServ Calls_4.0</th>\n",
              "      <th>CustServ Calls_5.0</th>\n",
              "      <th>CustServ Calls_6.0</th>\n",
              "      <th>CustServ Calls_7.0</th>\n",
              "      <th>CustServ Calls_8.0</th>\n",
              "      <th>CustServ Calls_9.0</th>\n",
              "    </tr>\n",
              "  </thead>\n",
              "  <tbody>\n",
              "    <tr>\n",
              "      <th>1</th>\n",
              "      <td>128.0</td>\n",
              "      <td>25.0</td>\n",
              "      <td>110.0</td>\n",
              "      <td>45.07</td>\n",
              "      <td>99.0</td>\n",
              "      <td>16.78</td>\n",
              "      <td>91.0</td>\n",
              "      <td>11.01</td>\n",
              "      <td>3.0</td>\n",
              "      <td>2.70</td>\n",
              "      <td>0</td>\n",
              "      <td>1</td>\n",
              "      <td>1</td>\n",
              "      <td>0</td>\n",
              "      <td>0</td>\n",
              "      <td>0</td>\n",
              "      <td>0</td>\n",
              "      <td>0</td>\n",
              "      <td>0</td>\n",
              "      <td>0</td>\n",
              "      <td>0</td>\n",
              "    </tr>\n",
              "    <tr>\n",
              "      <th>3</th>\n",
              "      <td>107.0</td>\n",
              "      <td>26.0</td>\n",
              "      <td>123.0</td>\n",
              "      <td>27.47</td>\n",
              "      <td>103.0</td>\n",
              "      <td>16.62</td>\n",
              "      <td>103.0</td>\n",
              "      <td>11.45</td>\n",
              "      <td>3.0</td>\n",
              "      <td>3.70</td>\n",
              "      <td>0</td>\n",
              "      <td>1</td>\n",
              "      <td>1</td>\n",
              "      <td>0</td>\n",
              "      <td>0</td>\n",
              "      <td>0</td>\n",
              "      <td>0</td>\n",
              "      <td>0</td>\n",
              "      <td>0</td>\n",
              "      <td>0</td>\n",
              "      <td>0</td>\n",
              "    </tr>\n",
              "    <tr>\n",
              "      <th>5</th>\n",
              "      <td>137.0</td>\n",
              "      <td>0.0</td>\n",
              "      <td>114.0</td>\n",
              "      <td>41.38</td>\n",
              "      <td>110.0</td>\n",
              "      <td>10.30</td>\n",
              "      <td>104.0</td>\n",
              "      <td>7.32</td>\n",
              "      <td>5.0</td>\n",
              "      <td>3.29</td>\n",
              "      <td>0</td>\n",
              "      <td>0</td>\n",
              "      <td>0</td>\n",
              "      <td>0</td>\n",
              "      <td>0</td>\n",
              "      <td>0</td>\n",
              "      <td>0</td>\n",
              "      <td>0</td>\n",
              "      <td>0</td>\n",
              "      <td>0</td>\n",
              "      <td>0</td>\n",
              "    </tr>\n",
              "    <tr>\n",
              "      <th>7</th>\n",
              "      <td>84.0</td>\n",
              "      <td>0.0</td>\n",
              "      <td>71.0</td>\n",
              "      <td>50.90</td>\n",
              "      <td>88.0</td>\n",
              "      <td>6.76</td>\n",
              "      <td>89.0</td>\n",
              "      <td>8.86</td>\n",
              "      <td>7.0</td>\n",
              "      <td>1.78</td>\n",
              "      <td>1</td>\n",
              "      <td>0</td>\n",
              "      <td>0</td>\n",
              "      <td>1</td>\n",
              "      <td>0</td>\n",
              "      <td>0</td>\n",
              "      <td>0</td>\n",
              "      <td>0</td>\n",
              "      <td>0</td>\n",
              "      <td>0</td>\n",
              "      <td>0</td>\n",
              "    </tr>\n",
              "    <tr>\n",
              "      <th>9</th>\n",
              "      <td>75.0</td>\n",
              "      <td>0.0</td>\n",
              "      <td>113.0</td>\n",
              "      <td>28.34</td>\n",
              "      <td>122.0</td>\n",
              "      <td>12.61</td>\n",
              "      <td>121.0</td>\n",
              "      <td>8.41</td>\n",
              "      <td>3.0</td>\n",
              "      <td>2.73</td>\n",
              "      <td>1</td>\n",
              "      <td>0</td>\n",
              "      <td>0</td>\n",
              "      <td>0</td>\n",
              "      <td>1</td>\n",
              "      <td>0</td>\n",
              "      <td>0</td>\n",
              "      <td>0</td>\n",
              "      <td>0</td>\n",
              "      <td>0</td>\n",
              "      <td>0</td>\n",
              "    </tr>\n",
              "  </tbody>\n",
              "</table>\n",
              "</div>"
            ],
            "text/plain": [
              "   Account Length  VMail Message  ...  CustServ Calls_8.0  CustServ Calls_9.0\n",
              "1           128.0           25.0  ...                   0                   0\n",
              "3           107.0           26.0  ...                   0                   0\n",
              "5           137.0            0.0  ...                   0                   0\n",
              "7            84.0            0.0  ...                   0                   0\n",
              "9            75.0            0.0  ...                   0                   0\n",
              "\n",
              "[5 rows x 21 columns]"
            ]
          },
          "metadata": {
            "tags": []
          },
          "execution_count": 65
        }
      ]
    },
    {
      "cell_type": "markdown",
      "metadata": {
        "id": "GdYgQrgOiJZ0"
      },
      "source": [
        "**separating train and test sets:**"
      ]
    },
    {
      "cell_type": "code",
      "metadata": {
        "id": "omd-mx2BiSz0"
      },
      "source": [
        "from sklearn.model_selection import train_test_split"
      ],
      "execution_count": null,
      "outputs": []
    },
    {
      "cell_type": "code",
      "metadata": {
        "id": "H4dwZPfci0zq"
      },
      "source": [
        "x_train , x_test , y_train , y_test = train_test_split(X,y, test_size = 0.30 ,random_state = 1)"
      ],
      "execution_count": null,
      "outputs": []
    },
    {
      "cell_type": "markdown",
      "metadata": {
        "id": "V_3nrjxfjsN1"
      },
      "source": [
        "**Scalling:**"
      ]
    },
    {
      "cell_type": "code",
      "metadata": {
        "id": "ICvGFw2Zjv6F"
      },
      "source": [
        "from sklearn.preprocessing import MinMaxScaler\n",
        "norm = MinMaxScaler().fit(x_train)\n",
        "x_train = norm.transform(x_train)\n",
        "x_test = norm.transform(x_test)"
      ],
      "execution_count": null,
      "outputs": []
    },
    {
      "cell_type": "markdown",
      "metadata": {
        "id": "ZOg-10ZSfuWg"
      },
      "source": [
        "**model building:**"
      ]
    },
    {
      "cell_type": "markdown",
      "metadata": {
        "id": "EY-OzcG8f85Q"
      },
      "source": [
        "**Logistic regression:**"
      ]
    },
    {
      "cell_type": "code",
      "metadata": {
        "id": "Jv7o5iiCf_7F"
      },
      "source": [
        "from sklearn.linear_model import LogisticRegression"
      ],
      "execution_count": null,
      "outputs": []
    },
    {
      "cell_type": "code",
      "metadata": {
        "id": "TYo7fmAMg9JO"
      },
      "source": [
        "lr = LogisticRegression()"
      ],
      "execution_count": null,
      "outputs": []
    },
    {
      "cell_type": "code",
      "metadata": {
        "colab": {
          "base_uri": "https://localhost:8080/"
        },
        "id": "DfyJDUdohDKM",
        "outputId": "dcb82234-77d5-45ef-d03f-7852b9637239"
      },
      "source": [
        "lr.fit(x_train,y_train)"
      ],
      "execution_count": null,
      "outputs": [
        {
          "output_type": "execute_result",
          "data": {
            "text/plain": [
              "LogisticRegression(C=1.0, class_weight=None, dual=False, fit_intercept=True,\n",
              "                   intercept_scaling=1, l1_ratio=None, max_iter=100,\n",
              "                   multi_class='auto', n_jobs=None, penalty='l2',\n",
              "                   random_state=None, solver='lbfgs', tol=0.0001, verbose=0,\n",
              "                   warm_start=False)"
            ]
          },
          "metadata": {
            "tags": []
          },
          "execution_count": 71
        }
      ]
    },
    {
      "cell_type": "code",
      "metadata": {
        "id": "ZlaNwxewhNCP"
      },
      "source": [
        "logpred = lr.predict(x_test)"
      ],
      "execution_count": null,
      "outputs": []
    },
    {
      "cell_type": "code",
      "metadata": {
        "colab": {
          "base_uri": "https://localhost:8080/"
        },
        "id": "jiwQ9BmvhXEm",
        "outputId": "fac4a8c1-520d-4498-8713-ac66ac6ff628"
      },
      "source": [
        "#Evaluation:\n",
        "from sklearn.metrics import classification_report,accuracy_score\n",
        "print(classification_report(y_test,logpred))"
      ],
      "execution_count": null,
      "outputs": [
        {
          "output_type": "stream",
          "text": [
            "              precision    recall  f1-score   support\n",
            "\n",
            "         0.0       0.87      0.96      0.91       855\n",
            "         1.0       0.39      0.15      0.22       145\n",
            "\n",
            "    accuracy                           0.84      1000\n",
            "   macro avg       0.63      0.56      0.56      1000\n",
            "weighted avg       0.80      0.84      0.81      1000\n",
            "\n"
          ],
          "name": "stdout"
        }
      ]
    },
    {
      "cell_type": "code",
      "metadata": {
        "colab": {
          "base_uri": "https://localhost:8080/"
        },
        "id": "i14frKR_h-cV",
        "outputId": "30a4af50-d5d5-49d8-fa9f-2b1b6d0f7772"
      },
      "source": [
        "logacc = accuracy_score(y_test,logpred)\n",
        "logacc"
      ],
      "execution_count": null,
      "outputs": [
        {
          "output_type": "execute_result",
          "data": {
            "text/plain": [
              "0.842"
            ]
          },
          "metadata": {
            "tags": []
          },
          "execution_count": 74
        }
      ]
    },
    {
      "cell_type": "markdown",
      "metadata": {
        "id": "C_ye6rVph2ZS"
      },
      "source": [
        "**Decision Tree:**"
      ]
    },
    {
      "cell_type": "code",
      "metadata": {
        "id": "h8Ko6cO3iUy9"
      },
      "source": [
        "from sklearn.tree import DecisionTreeClassifier"
      ],
      "execution_count": null,
      "outputs": []
    },
    {
      "cell_type": "code",
      "metadata": {
        "id": "zY4waaQbl-HY"
      },
      "source": [
        "dt = DecisionTreeClassifier()"
      ],
      "execution_count": null,
      "outputs": []
    },
    {
      "cell_type": "code",
      "metadata": {
        "colab": {
          "base_uri": "https://localhost:8080/"
        },
        "id": "ILpfkvuOmCn0",
        "outputId": "8cc7a8ba-aa6b-4ccd-f689-8c9ada63c0da"
      },
      "source": [
        "dt.fit(x_train,y_train)"
      ],
      "execution_count": null,
      "outputs": [
        {
          "output_type": "execute_result",
          "data": {
            "text/plain": [
              "DecisionTreeClassifier(ccp_alpha=0.0, class_weight=None, criterion='gini',\n",
              "                       max_depth=None, max_features=None, max_leaf_nodes=None,\n",
              "                       min_impurity_decrease=0.0, min_impurity_split=None,\n",
              "                       min_samples_leaf=1, min_samples_split=2,\n",
              "                       min_weight_fraction_leaf=0.0, presort='deprecated',\n",
              "                       random_state=None, splitter='best')"
            ]
          },
          "metadata": {
            "tags": []
          },
          "execution_count": 77
        }
      ]
    },
    {
      "cell_type": "code",
      "metadata": {
        "id": "H7_6OwmqmMG-"
      },
      "source": [
        "dtpred = dt.predict(x_test)"
      ],
      "execution_count": null,
      "outputs": []
    },
    {
      "cell_type": "code",
      "metadata": {
        "colab": {
          "base_uri": "https://localhost:8080/"
        },
        "id": "EfEnBkg8mT58",
        "outputId": "9a9a9a20-a15b-4d27-a3e4-286205bad73d"
      },
      "source": [
        "print(classification_report(y_test,dtpred))"
      ],
      "execution_count": null,
      "outputs": [
        {
          "output_type": "stream",
          "text": [
            "              precision    recall  f1-score   support\n",
            "\n",
            "         0.0       0.96      0.93      0.95       855\n",
            "         1.0       0.66      0.79      0.72       145\n",
            "\n",
            "    accuracy                           0.91      1000\n",
            "   macro avg       0.81      0.86      0.83      1000\n",
            "weighted avg       0.92      0.91      0.91      1000\n",
            "\n"
          ],
          "name": "stdout"
        }
      ]
    },
    {
      "cell_type": "code",
      "metadata": {
        "colab": {
          "base_uri": "https://localhost:8080/"
        },
        "id": "t8ggxZpxmc3J",
        "outputId": "7c1f24f0-8bb0-41a5-d344-3d0957a683cf"
      },
      "source": [
        "dtacc = accuracy_score(y_test,dtpred)\n",
        "dtacc"
      ],
      "execution_count": null,
      "outputs": [
        {
          "output_type": "execute_result",
          "data": {
            "text/plain": [
              "0.91"
            ]
          },
          "metadata": {
            "tags": []
          },
          "execution_count": 80
        }
      ]
    },
    {
      "cell_type": "markdown",
      "metadata": {
        "id": "9ke0pepKlAQg"
      },
      "source": [
        "**Random forest:**"
      ]
    },
    {
      "cell_type": "code",
      "metadata": {
        "id": "c0ZajIB0lFmv"
      },
      "source": [
        "from sklearn.ensemble import RandomForestClassifier"
      ],
      "execution_count": null,
      "outputs": []
    },
    {
      "cell_type": "code",
      "metadata": {
        "id": "T2GnO1lqlSCW"
      },
      "source": [
        "rf = RandomForestClassifier(n_estimators=500)"
      ],
      "execution_count": null,
      "outputs": []
    },
    {
      "cell_type": "code",
      "metadata": {
        "id": "bN5nlsXFlZbN",
        "colab": {
          "base_uri": "https://localhost:8080/"
        },
        "outputId": "95bf47a7-2f8b-4603-de59-e383132026fd"
      },
      "source": [
        "rf.fit(x_train,y_train)"
      ],
      "execution_count": null,
      "outputs": [
        {
          "output_type": "execute_result",
          "data": {
            "text/plain": [
              "RandomForestClassifier(bootstrap=True, ccp_alpha=0.0, class_weight=None,\n",
              "                       criterion='gini', max_depth=None, max_features='auto',\n",
              "                       max_leaf_nodes=None, max_samples=None,\n",
              "                       min_impurity_decrease=0.0, min_impurity_split=None,\n",
              "                       min_samples_leaf=1, min_samples_split=2,\n",
              "                       min_weight_fraction_leaf=0.0, n_estimators=500,\n",
              "                       n_jobs=None, oob_score=False, random_state=None,\n",
              "                       verbose=0, warm_start=False)"
            ]
          },
          "metadata": {
            "tags": []
          },
          "execution_count": 122
        }
      ]
    },
    {
      "cell_type": "code",
      "metadata": {
        "id": "nXfvifGd2-Sk"
      },
      "source": [
        "rfpred = rf.predict(x_test)"
      ],
      "execution_count": null,
      "outputs": []
    },
    {
      "cell_type": "code",
      "metadata": {
        "colab": {
          "base_uri": "https://localhost:8080/"
        },
        "id": "lTAFGHuZ3Iws",
        "outputId": "879b85fb-5afe-4a7b-a7f5-f675589afc89"
      },
      "source": [
        "print(classification_report(y_test,rfpred))"
      ],
      "execution_count": null,
      "outputs": [
        {
          "output_type": "stream",
          "text": [
            "              precision    recall  f1-score   support\n",
            "\n",
            "         0.0       0.94      0.99      0.96       855\n",
            "         1.0       0.88      0.63      0.74       145\n",
            "\n",
            "    accuracy                           0.94      1000\n",
            "   macro avg       0.91      0.81      0.85      1000\n",
            "weighted avg       0.93      0.94      0.93      1000\n",
            "\n"
          ],
          "name": "stdout"
        }
      ]
    },
    {
      "cell_type": "code",
      "metadata": {
        "colab": {
          "base_uri": "https://localhost:8080/"
        },
        "id": "_s9Gy9S_34V5",
        "outputId": "944249c5-0002-4183-f9c8-a925eef9cf8c"
      },
      "source": [
        "rfacc = accuracy_score(y_test,rfpred)\n",
        "rfacc"
      ],
      "execution_count": null,
      "outputs": [
        {
          "output_type": "execute_result",
          "data": {
            "text/plain": [
              "0.935"
            ]
          },
          "metadata": {
            "tags": []
          },
          "execution_count": 125
        }
      ]
    },
    {
      "cell_type": "markdown",
      "metadata": {
        "id": "XXdW5NVg6Z7T"
      },
      "source": [
        "**XG boost:**"
      ]
    },
    {
      "cell_type": "code",
      "metadata": {
        "id": "6CB4oYOm6gFZ"
      },
      "source": [
        "from xgboost import XGBClassifier"
      ],
      "execution_count": null,
      "outputs": []
    },
    {
      "cell_type": "code",
      "metadata": {
        "id": "2gsw81p47yOc"
      },
      "source": [
        "xgb = XGBClassifier()"
      ],
      "execution_count": null,
      "outputs": []
    },
    {
      "cell_type": "code",
      "metadata": {
        "colab": {
          "base_uri": "https://localhost:8080/"
        },
        "id": "9LBViQ7d8zxg",
        "outputId": "24cbd306-cfb0-401a-8713-2a38108895b1"
      },
      "source": [
        "xgb.fit(x_train,y_train)"
      ],
      "execution_count": null,
      "outputs": [
        {
          "output_type": "execute_result",
          "data": {
            "text/plain": [
              "XGBClassifier(base_score=0.5, booster='gbtree', colsample_bylevel=1,\n",
              "              colsample_bynode=1, colsample_bytree=1, gamma=0,\n",
              "              learning_rate=0.1, max_delta_step=0, max_depth=3,\n",
              "              min_child_weight=1, missing=None, n_estimators=100, n_jobs=1,\n",
              "              nthread=None, objective='binary:logistic', random_state=0,\n",
              "              reg_alpha=0, reg_lambda=1, scale_pos_weight=1, seed=None,\n",
              "              silent=None, subsample=1, verbosity=1)"
            ]
          },
          "metadata": {
            "tags": []
          },
          "execution_count": 128
        }
      ]
    },
    {
      "cell_type": "code",
      "metadata": {
        "id": "wcRfGjeA9DMe"
      },
      "source": [
        "xgbpred = xgb.predict(x_test)"
      ],
      "execution_count": null,
      "outputs": []
    },
    {
      "cell_type": "code",
      "metadata": {
        "colab": {
          "base_uri": "https://localhost:8080/"
        },
        "id": "tilrs1_d9X89",
        "outputId": "e2240b5f-d128-483a-9e98-fcf0d924d5d8"
      },
      "source": [
        "print(classification_report(y_test,xgbpred))"
      ],
      "execution_count": null,
      "outputs": [
        {
          "output_type": "stream",
          "text": [
            "              precision    recall  f1-score   support\n",
            "\n",
            "         0.0       0.94      0.99      0.97       855\n",
            "         1.0       0.91      0.66      0.76       145\n",
            "\n",
            "    accuracy                           0.94      1000\n",
            "   macro avg       0.93      0.82      0.86      1000\n",
            "weighted avg       0.94      0.94      0.94      1000\n",
            "\n"
          ],
          "name": "stdout"
        }
      ]
    },
    {
      "cell_type": "code",
      "metadata": {
        "id": "sL2JsgES9gY1"
      },
      "source": [
        "xgbacc = accuracy_score(y_test,xgbpred)\n"
      ],
      "execution_count": null,
      "outputs": []
    },
    {
      "cell_type": "code",
      "metadata": {
        "colab": {
          "base_uri": "https://localhost:8080/"
        },
        "id": "1ubjYo9J9sLw",
        "outputId": "8efb2763-61f1-45c9-a18e-5f160da4c9e3"
      },
      "source": [
        "xgbacc"
      ],
      "execution_count": null,
      "outputs": [
        {
          "output_type": "execute_result",
          "data": {
            "text/plain": [
              "0.941"
            ]
          },
          "metadata": {
            "tags": []
          },
          "execution_count": 136
        }
      ]
    },
    {
      "cell_type": "markdown",
      "metadata": {
        "id": "bBohyO3l935x"
      },
      "source": [
        "**printing all accuracies:**"
      ]
    },
    {
      "cell_type": "code",
      "metadata": {
        "colab": {
          "base_uri": "https://localhost:8080/"
        },
        "id": "-r8BQGck99-I",
        "outputId": "6586f540-52ae-4167-ff30-e1d532f77b64"
      },
      "source": [
        "print('logistic regression: ',logacc)\n",
        "print('decision tree: ',dtacc)\n",
        "print('random forest: ',rfacc)\n",
        "print('XG_Boost: ',xgbacc)"
      ],
      "execution_count": null,
      "outputs": [
        {
          "output_type": "stream",
          "text": [
            "logistic regression:  0.842\n",
            "decision tree:  0.91\n",
            "random forest:  0.935\n",
            "XG_Boost:  0.941\n"
          ],
          "name": "stdout"
        }
      ]
    },
    {
      "cell_type": "markdown",
      "metadata": {
        "id": "2FN1g9YI-fY9"
      },
      "source": [
        "Among all the classifiers we applied, we got high accuracy with  XGBclassifier \n",
        "\n",
        "But we can't say it's best . because we used a single test set , which may be favourable to XGBoosting model. to check this we  compute other accuracies on other test sets . to do that we use k-fold cross validation.  "
      ]
    },
    {
      "cell_type": "markdown",
      "metadata": {
        "id": "ZXqzy6YWDkqq"
      },
      "source": [
        "**k-fold cross validation on XGBooosting model:**"
      ]
    },
    {
      "cell_type": "code",
      "metadata": {
        "id": "eB90ls3MDurZ"
      },
      "source": [
        "from sklearn.model_selection import cross_val_score"
      ],
      "execution_count": null,
      "outputs": []
    },
    {
      "cell_type": "code",
      "metadata": {
        "id": "PtOKGn-DD2dT"
      },
      "source": [
        "kxgaccs = cross_val_score(estimator=xgb,X=x_train,y=y_train,cv=10)"
      ],
      "execution_count": null,
      "outputs": []
    },
    {
      "cell_type": "code",
      "metadata": {
        "colab": {
          "base_uri": "https://localhost:8080/"
        },
        "id": "F9TaDMnhE499",
        "outputId": "b841436f-2116-4e99-f1bc-90fe9b13c598"
      },
      "source": [
        "print(\"accuracy: {:.2f} %\".format(kxgaccs.mean()*100))"
      ],
      "execution_count": null,
      "outputs": [
        {
          "output_type": "stream",
          "text": [
            "accuracy: 94.25 %\n"
          ],
          "name": "stdout"
        }
      ]
    },
    {
      "cell_type": "markdown",
      "metadata": {
        "id": "UEIrolLmGajF"
      },
      "source": [
        "we got final accuraacy of 94.25% on this model"
      ]
    }
  ]
}